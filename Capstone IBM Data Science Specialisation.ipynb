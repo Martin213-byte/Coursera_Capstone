{
 "cells": [
  {
   "cell_type": "markdown",
   "metadata": {},
   "source": [
    "# Capstone Project - The Battle of the Neighborhoods\n",
    "### Spezialisation in Data Science by IBM and Coursera"
   ]
  },
  {
   "cell_type": "markdown",
   "metadata": {},
   "source": [
    "## Table of contents\n",
    "* [Introduction/Business Problem](#introduction)\n",
    "* [Data](#data)\n",
    "* [Methodology](#methodology)\n",
    "* [Analysis](#analysis)\n",
    "* [Results](#results)\n",
    "* [Discussion](#discussion)\n",
    "* [Conclusion](#conclusion)"
   ]
  },
  {
   "cell_type": "markdown",
   "metadata": {},
   "source": [
    "\n",
    "## Introduction/Business Problem <a name=\"introduction\"></a>"
   ]
  },
  {
   "cell_type": "markdown",
   "metadata": {},
   "source": [
    "   In my Business Problem I will analyse and compare **restaurants** and the **clusters of food venues** in the center of two different European cities, namely - **Sofia and Bucharest**. \n",
    "\n",
    "   As a Bulgarian it is interesting to me to compare two cities like **Sofia and Bucharest**, which are still in a transition period after the fall of the Communist regime in East Europe and despite that they are changing and there are already people from different nationalities living there, they are still **not that multicultural cities comparing to many European capitals**.    \n",
    "    \n",
    "   I want to analyse whether the **variety of restaurants** with cusines from different countries is **connected to the multiculturality** of a city or whether the natural people's desire to try dishes from all over the world makes the venues of a city multicultural, before the city has become such. \n",
    "    \n",
    "   Additionally, I want to **analyze whether there are any restaurants with traditional national dishes from one of the two countries in the other capital city** (Bulgarian restaurants in Bucharest and Romanian restaurants in Sofia). And **where in the city center is the best place for such a restaurants to be opened**.\n",
    "   \n",
    "   This problem can be of a great use for private entrepreneurs from any of the two countries, who want to open a restaurant with traditional national cuisines in the neighbour country. It can also help governmental or tourism companies who want to promote their city and the diversity of restaurants and food venues it offers.   "
   ]
  },
  {
   "cell_type": "markdown",
   "metadata": {},
   "source": [
    "## Data <a name=\"data\"></a>"
   ]
  },
  {
   "cell_type": "markdown",
   "metadata": {},
   "source": [
    "1. The first step is to allocate a main touristic sightseeing place in both cities - the Court House in Sofia and the Old Town in Bucharest.\n",
    "   \n",
    "   \n",
    "2. Second, the geocoordinates of the two locations will be defined, using Google Maps.\n",
    "  \n",
    "  \n",
    "3. The next step will be to define a surface with radius of 6 km from the central spot, which will be filled with a grid of small circles of radius 300 m. The center of the small circles will be used to extract the nearby food venues with the help of Foursquare. \n",
    "\n",
    "\n",
    "4. The venues will be first used to extract the restaurants and analyse them - how many restaurants there are nearby, whether there are any Bulgarian/Romanian restaurants. Depending on that, places with smaller number of Bulgarian/Romanian and with smaller number of restaurants as a whole will be highlighted as good places for a restaurant to be opened.  \n",
    "\n",
    "\n",
    "5. Later the founded venues will be used for a more expanded clustering (food venues based) of the city centre. \n",
    "\n",
    "\n",
    "6. K - Means Clustering will be used for the both clustering cases - restaurants and venues based. It will help us find places with less number of restaurants nearby and will help us compare how similar they are to each other and how multicultural they are."
   ]
  },
  {
   "cell_type": "markdown",
   "metadata": {},
   "source": [
    "### The Places selected:\n",
    " - Sofia, the Court House 42.695138306155314, 23.320175955491948\n",
    " - Bucharest, The Old Town 44.43320239120804, 26.10238305064323\n",
    " \n",
    "The Court House in Sofia is at the beginning of the Vitosha Boulevard, which is the main commercial street in the centre of Sofia, the capital of Bulgaria. The place is abundant in posh stores, restaurants and bars\n",
    "\n",
    "The Old Town of Bucharest, Romania is located in the center of the city and is popular for its nightlife, restaurants, bars and other venues."
   ]
  },
  {
   "cell_type": "markdown",
   "metadata": {},
   "source": [
    "### Collecting the data"
   ]
  },
  {
   "cell_type": "markdown",
   "metadata": {},
   "source": [
    "As mentioned, the first step will be to create a grid of circles(\"neighborhoods\") with a radius of 300 meters in a big circle with a radius of 6 km from the Sofia Court House. Our grid of circles will be our grid of \"neighborhoods\", which food venues we will analyse and cluster. \n",
    "\n",
    "First, we work with metrics in meters. Later we convert the coordinates into latitude/longitude degrees to be shown on Folium map. So we will use functions to convert between WGS84 spherical coordinate system (latitude/longitude degrees) and UTM Cartesian coordinate system (X/Y coordinates in meters)."
   ]
  },
  {
   "cell_type": "code",
   "execution_count": null,
   "metadata": {},
   "outputs": [],
   "source": [
    "import numpy as np # library to handle data in a vectorized manner\n",
    "\n",
    "import pandas as pd # the well known pandas library for data analysis\n",
    "pd.set_option('display.max_columns', None)\n",
    "pd.set_option('display.max_rows', None)\n",
    "\n",
    "import json # library to handle JSON files\n",
    "\n",
    "#!conda install -c conda-forge geopy --yes # uncomment this line if you don't have them installed \n",
    "from geopy.geocoders import Nominatim # convert an address into latitude and longitude values\n",
    "\n",
    "import requests # library to handle requests\n",
    "from pandas.io.json import json_normalize # tranform JSON file into a pandas dataframe\n",
    "\n",
    "# Matplotlib and associated plotting modules\n",
    "import matplotlib.cm as cm\n",
    "import matplotlib.colors as colors\n",
    "\n",
    "# import k-means for the clustering\n",
    "from sklearn.cluster import KMeans\n",
    "\n",
    "#!conda install -c conda-forge folium=0.5.0 --yes # uncomment this line if you don't have them installed \n",
    "import folium # map rendering library\n",
    "\n",
    "#!pip install shapely\n",
    "import shapely.geometry\n",
    "\n",
    "#!pip install pyproj\n",
    "import pyproj\n",
    "\n",
    "import math\n",
    "\n",
    "import folium\n",
    "\n",
    "import pickle\n",
    "\n",
    "from folium import plugins\n",
    "from folium.plugins import HeatMap\n",
    "\n",
    "from sklearn.cluster import KMeans\n",
    "\n",
    "print('Libraries imported.')"
   ]
  },
  {
   "cell_type": "code",
   "execution_count": null,
   "metadata": {},
   "outputs": [],
   "source": [
    " # My Foursquare credentials\n",
    "client_id = 'XXXXXXXXXXXXXXXXXXXXXXXXXXXXXXXXXXXX'\n",
    "client_secret = 'XXXXXXXXXXXXXXXXXXXXXXXXXXXXXXXXXXXXXXXXX' \n",
    "version = '20180605'\n",
    "limit = 100 \n",
    "\n",
    "print('My credentails:')\n",
    "print('CLIENT_ID: ' + client_id)\n",
    "print('CLIENT_SECRET:' + client_secret)"
   ]
  },
  {
   "cell_type": "code",
   "execution_count": null,
   "metadata": {},
   "outputs": [],
   "source": [
    "# Google Maps Api Key\n",
    "api_key = 'XXXXXXXXXXXXXXXXXXXXXXXXXXXXXXXXXXXXX'"
   ]
  },
  {
   "cell_type": "markdown",
   "metadata": {},
   "source": [
    "<h1><center>Sofia</center></h1>"
   ]
  },
  {
   "cell_type": "code",
   "execution_count": null,
   "metadata": {},
   "outputs": [],
   "source": [
    "sofia_center= ['42.695138306155314', '23.320175955491948']"
   ]
  },
  {
   "cell_type": "code",
   "execution_count": null,
   "metadata": {
    "scrolled": false
   },
   "outputs": [],
   "source": [
    "def lonlat_to_xy(lon, lat):\n",
    "    proj_latlon = pyproj.Proj(proj='latlong',datum='WGS84')\n",
    "    proj_xy = pyproj.Proj(proj=\"utm\", zone=33, datum='WGS84')\n",
    "    xy = pyproj.transform(proj_latlon, proj_xy, lon, lat)\n",
    "    return xy[0], xy[1]\n",
    "\n",
    "def xy_to_lonlat(x, y):\n",
    "    proj_latlon = pyproj.Proj(proj='latlong',datum='WGS84')\n",
    "    proj_xy = pyproj.Proj(proj=\"utm\", zone=33, datum='WGS84')\n",
    "    lonlat = pyproj.transform(proj_xy, proj_latlon, x, y)\n",
    "    return lonlat[0], lonlat[1]\n",
    "\n",
    "def calc_xy_distance(x1, y1, x2, y2):\n",
    "    dx = x2 - x1\n",
    "    dy = y2 - y1\n",
    "    return math.sqrt(dx*dx + dy*dy)\n",
    "\n",
    "print('Coordinate transformation check')\n",
    "print('-------------------------------')\n",
    "print('Sofia center longitude={}, latitude={}'.format(sofia_center[1], sofia_center[0]))\n",
    "x, y = lonlat_to_xy(sofia_center[1], sofia_center[0])\n",
    "print('Sofia center UTM X={}, Y={}'.format(x, y))\n",
    "lo, la = xy_to_lonlat(x, y)\n",
    "print('Sofia center longitude={}, latitude={}'.format(lo, la))"
   ]
  },
  {
   "cell_type": "markdown",
   "metadata": {},
   "source": [
    "Next we create our hexagonal grid of cells. We offset every row and adjust vertical row spacing so that cell centers are equally distant from one another "
   ]
  },
  {
   "cell_type": "code",
   "execution_count": null,
   "metadata": {},
   "outputs": [],
   "source": [
    "sofia_center_x, sofia_center_y = lonlat_to_xy(sofia_center[1], sofia_center[0]) # City center in Cartesian coordinates\n",
    "\n",
    "k = math.sqrt(3) / 2 # Vertical offset for hexagonal grid cells\n",
    "x_min = sofia_center_x - 6000\n",
    "x_step = 600\n",
    "y_min = sofia_center_y - 6000 - (int(21/k)*k*600 - 12000)/2\n",
    "y_step = 600 * k \n",
    "\n",
    "latitudes = []\n",
    "longitudes = []\n",
    "distances_from_center = []\n",
    "xs = []\n",
    "ys = []\n",
    "for i in range(0, int(21/k)):\n",
    "    y = y_min + i * y_step\n",
    "    x_offset = 300 if i%2==0 else 0\n",
    "    for j in range(0, 21):\n",
    "        x = x_min + j * x_step + x_offset\n",
    "        distance_from_center = calc_xy_distance(sofia_center_x, sofia_center_y, x, y)\n",
    "        if (distance_from_center <= 6001):\n",
    "            lon, lat = xy_to_lonlat(x, y)\n",
    "            latitudes.append(lat)\n",
    "            longitudes.append(lon)\n",
    "            distances_from_center.append(distance_from_center)\n",
    "            xs.append(x)\n",
    "            ys.append(y)\n",
    "\n",
    "print(len(latitudes), 'candidate neighborhood centers generated.')"
   ]
  },
  {
   "cell_type": "markdown",
   "metadata": {},
   "source": [
    "Next we visualize our grid of artificial cells on an nice map plot "
   ]
  },
  {
   "cell_type": "code",
   "execution_count": null,
   "metadata": {
    "scrolled": true
   },
   "outputs": [],
   "source": [
    "map_sofia = folium.Map(location=sofia_center, zoom_start=13)\n",
    "folium.Marker(sofia_center, popup='Court House').add_to(map_sofia)\n",
    "for lat, lon in zip(latitudes, longitudes):\n",
    "    #folium.CircleMarker([lat, lon], radius=2, color='blue', fill=True, fill_color='blue', fill_opacity=1).add_to(map_sofia) \n",
    "    folium.Circle([lat, lon], radius=300, color='blue', fill=False).add_to(map_sofia)\n",
    "    #folium.Marker([lat, lon]).add_to(map_sofia)\n",
    "map_sofia"
   ]
  },
  {
   "cell_type": "markdown",
   "metadata": {},
   "source": [
    "### Google Maps\n",
    "\n",
    "We now have the coordinates of the centers which we will use to extract the venues nearby.\n",
    "\n",
    "We use Google Maps API to get approximate addresses of those locations."
   ]
  },
  {
   "cell_type": "code",
   "execution_count": null,
   "metadata": {},
   "outputs": [],
   "source": [
    "def get_address(api_key, latitude, longitude, verbose=False):\n",
    "    try:\n",
    "        url = 'https://maps.googleapis.com/maps/api/geocode/json?key={}&latlng={},{}'.format(api_key, latitude, longitude)\n",
    "        response = requests.get(url).json()\n",
    "        if verbose:\n",
    "            print('Google Maps API JSON result =>', response)\n",
    "        results = response['results']\n",
    "        address = results[0]['formatted_address']\n",
    "        return address\n",
    "    except:\n",
    "        return None\n",
    "\n",
    "addr = get_address(api_key, sofia_center[0], sofia_center[1])\n",
    "print('Reverse geocoding check')\n",
    "print('-----------------------')\n",
    "print('Address of [{}, {}] is: {}'.format(sofia_center[0], sofia_center[1], addr))"
   ]
  },
  {
   "cell_type": "code",
   "execution_count": null,
   "metadata": {},
   "outputs": [],
   "source": [
    "print('Obtaining location addresses: ', end='')\n",
    "addresses = []\n",
    "for lat, lon in zip(latitudes, longitudes):\n",
    "    address = get_address(api_key, lat, lon)\n",
    "    if address is None:\n",
    "        address = 'NO ADDRESS'\n",
    "    address = address.replace(', Bulgaria', '') # We don't need this part of the address\n",
    "    addresses.append(address)\n",
    "    print(' .', end='')\n",
    "print(' done.')"
   ]
  },
  {
   "cell_type": "code",
   "execution_count": null,
   "metadata": {},
   "outputs": [],
   "source": [
    "addresses[0:20]"
   ]
  },
  {
   "cell_type": "markdown",
   "metadata": {},
   "source": [
    "So far so good. Let's put the data into a Pandas dataframe and save the data into a local file."
   ]
  },
  {
   "cell_type": "code",
   "execution_count": null,
   "metadata": {},
   "outputs": [],
   "source": [
    "df_locations = pd.DataFrame({'Address': addresses,\n",
    "                             'Latitude': latitudes,\n",
    "                             'Longitude': longitudes,\n",
    "                             'X': xs,\n",
    "                             'Y': ys,\n",
    "                             'Distance from center': distances_from_center})\n",
    "\n",
    "df_locations.head(10)"
   ]
  },
  {
   "cell_type": "code",
   "execution_count": null,
   "metadata": {},
   "outputs": [],
   "source": [
    "df_locations.to_pickle('./locations_bulgaria.pkl')"
   ]
  },
  {
   "cell_type": "markdown",
   "metadata": {},
   "source": [
    "### Foursquare\n",
    "\n",
    "Having the locations, we use our Foursquare API to get the food venues and from them we extract the restaurants in every neighborhood.\n",
    "\n",
    "During the analysis of the restaurants we are not interested in every 'food' category, because coffee shops, pizza places, bakeries etc. are not direct competitors. So we include in our filter only venues with 'restaurant' in category name, and we'll search for all the subcategories of specific 'Romanian restaurant', as we need info on Romanian restaurants in the neighborhood."
   ]
  },
  {
   "cell_type": "code",
   "execution_count": null,
   "metadata": {},
   "outputs": [],
   "source": [
    "# Category IDs corresponding were taken from Foursquare web site (https://developer.foursquare.com/docs/resources/categories):\n",
    "\n",
    "food_category = '4d4b7105d754a06374d81259' # 'Root' category for all food-related venues\n",
    "\n",
    "romanian_restaurant_categories = ['52960bac3cf9994f4e043ac4']\n",
    "\n",
    "def is_restaurant(categories, specific_filter=None):\n",
    "    restaurant_words = ['restaurant', 'diner', 'taverna', 'steakhouse']\n",
    "    restaurant = False\n",
    "    specific = False\n",
    "    for c in categories:\n",
    "        category_name = c[0].lower()\n",
    "        category_id = c[1]\n",
    "        for r in restaurant_words:\n",
    "            if r in category_name:\n",
    "                restaurant = True\n",
    "        if 'fast food' in category_name:\n",
    "            restaurant = False\n",
    "        if not(specific_filter is None) and (category_id in specific_filter):\n",
    "            specific = True\n",
    "            restaurant = True\n",
    "    return restaurant, specific\n",
    "\n",
    "def get_categories(categories):\n",
    "    return [(cat['name'], cat['id']) for cat in categories]\n",
    "\n",
    "def format_address(location):\n",
    "    address = ', '.join(location['formattedAddress'])\n",
    "    address = address.replace(', България', '')\n",
    "    address = address.replace(', Bulgaria', '')\n",
    "    return address\n",
    "\n",
    "def get_venues_near_location(lat, lon, category, client_id, client_secret, radius=300, limit=100):\n",
    "    version = '20180724'\n",
    "    url = 'https://api.foursquare.com/v2/venues/explore?client_id={}&client_secret={}&v={}&ll={},{}&categoryId={}&radius={}&limit={}'.format(\n",
    "        client_id, client_secret, version, lat, lon, category, radius, limit)\n",
    "    results = requests.get(url).json()['response']['groups'][0]['items']\n",
    "    venues = [(item['venue']['id'],\n",
    "               item['venue']['name'],\n",
    "              get_categories(item['venue']['categories']),\n",
    "              (item['venue']['location']['lat'], item['venue']['location']['lng']),\n",
    "              format_address(item['venue']['location']),\n",
    "             item['venue']['location']['distance']) for item in results]        \n",
    "\n",
    "    venues_list.append([( \n",
    "        lat, \n",
    "        lon, \n",
    "        v['venue']['name'], \n",
    "        v['venue']['location']['lat'], \n",
    "        v['venue']['location']['lng'],  \n",
    "        v['venue']['categories'][0]['name']) for v in results])\n",
    "\n",
    "    nearby_venues = pd.DataFrame([item for venue_list in venues_list for item in venue_list])\n",
    "    \n",
    "    return venues, nearby_venues\n"
   ]
  },
  {
   "cell_type": "code",
   "execution_count": null,
   "metadata": {},
   "outputs": [],
   "source": [
    "# Let's now get all the nearby food venues, restaurants and romanian restaurants\n",
    "def get_restaurants(lats, lons):    \n",
    "    restaurants = {}\n",
    "    romanian_restaurants = {}\n",
    "    location_restaurants = []\n",
    "\n",
    "    print('Obtaining venues around candidate locations:', end='')\n",
    "    for lat, lon in zip(lats, lons):\n",
    "        venues, nearby_venues = get_venues_near_location(lat, lon, food_category, client_id, client_secret, radius=300, limit=100)\n",
    "        area_restaurants = []\n",
    "        for venue in venues:\n",
    "            venue_id = venue[0]\n",
    "            venue_name = venue[1]\n",
    "            venue_categories = venue[2]\n",
    "            venue_latlon = venue[3]\n",
    "            venue_address = venue[4]\n",
    "            venue_distance = venue[5]\n",
    "            is_res, is_romanian = is_restaurant(venue_categories, specific_filter=romanian_restaurant_categories)\n",
    "            if is_res:\n",
    "                x, y = lonlat_to_xy(venue_latlon[1], venue_latlon[0])\n",
    "                restaurant = (venue_id, venue_name, venue_latlon[0], venue_latlon[1], venue_address, venue_distance, is_romanian, x, y)\n",
    "                if venue_distance<=300:\n",
    "                    area_restaurants.append(restaurant)\n",
    "                restaurants[venue_id] = restaurant\n",
    "                if is_romanian:\n",
    "                    romanian_restaurants[venue_id] = restaurant\n",
    "        location_restaurants.append(area_restaurants)\n",
    "        print(' .', end='')\n",
    "    print(' done.')\n",
    "    return restaurants, romanian_restaurants, location_restaurants, nearby_venues, venues\n",
    "\n",
    "# Try to load the data from files if they were already saved\n",
    "restaurants = {}\n",
    "romanian_restaurants = {}\n",
    "nearby_venues = {}\n",
    "location_restaurants = []\n",
    "venues_list = []\n",
    "loaded = False\n",
    "try:\n",
    "    \n",
    "    with open('restaurants_bulgaria_350.pkl', 'rb') as f:\n",
    "        restaurants = pickle.load(f)\n",
    "    with open('romanian_restaurants_350.pkl', 'rb') as f:\n",
    "        romanian_restaurants = pickle.load(f)\n",
    "    with open('location_restaurants_bulgaria_350.pkl', 'rb') as f:\n",
    "        location_restaurants = pickle.load(f)\n",
    "    with open('nearby_venues_bulgaria_350.pkl', 'rb') as f:\n",
    "        nearby_venues = pickle.load(f)\n",
    "    print('Data loaded.')\n",
    "    loaded = True\n",
    "except:\n",
    "    pass\n",
    "\n",
    "# In case the files don't exist, load the data from Foursquare\n",
    "if not loaded:\n",
    "    \n",
    "    restaurants, romanian_restaurants, location_restaurants, nearby_venues,venues = get_restaurants(latitudes, longitudes)\n",
    "    \n",
    "    # Let's persist this in a local file system\n",
    "    with open('restaurants_bulgaria_350.pkl', 'wb') as f:\n",
    "        pickle.dump(restaurants, f)\n",
    "    with open('romanian_restaurants_350.pkl', 'wb') as f:\n",
    "        pickle.dump(romanian_restaurants, f)\n",
    "    with open('location_restaurants_bulgaria_350.pkl', 'wb') as f:\n",
    "        pickle.dump(location_restaurants, f)\n",
    "    with open('nearby_venues_bulgaria_350.pkl', 'wb') as f:\n",
    "        pickle.dump(nearby_venues, f)"
   ]
  },
  {
   "cell_type": "code",
   "execution_count": null,
   "metadata": {},
   "outputs": [],
   "source": [
    "print('Total number of restaurants:', len(restaurants))\n",
    "print('Total number of Romanian restaurants:', len(romanian_restaurants))\n",
    "print('Percentage of Romanian restaurants: {:.2f}%'.format(len(romanian_restaurants) / len(restaurants) * 100))\n",
    "print('Average number of restaurants in neighborhood:', np.array([len(r) for r in location_restaurants]).mean())"
   ]
  },
  {
   "cell_type": "code",
   "execution_count": null,
   "metadata": {},
   "outputs": [],
   "source": [
    "nearby_venues.shape"
   ]
  },
  {
   "cell_type": "markdown",
   "metadata": {},
   "source": [
    "OK, so it seems that there are no Romanian restaurants in the city center of Sofia. We have 1927 food venues and 867 of them are in the class \"restaurants\". The average number of restaurants in the neighborhood (circle of 600m) is around 2,4 , which is not that high.  "
   ]
  },
  {
   "cell_type": "code",
   "execution_count": null,
   "metadata": {},
   "outputs": [],
   "source": [
    "print('List of all restaurants')\n",
    "print('-----------------------')\n",
    "for r in list(restaurants.values())[:10]:\n",
    "    print(r)\n",
    "print('...')\n",
    "print('Total:', len(restaurants))"
   ]
  },
  {
   "cell_type": "code",
   "execution_count": null,
   "metadata": {},
   "outputs": [],
   "source": [
    "print('Restaurants around location')\n",
    "print('---------------------------')\n",
    "for i in range(100, 110):\n",
    "    rs = location_restaurants[i][:8]\n",
    "    names = ', '.join([r[1] for r in rs])\n",
    "    print('Restaurants around location {}: {}'.format(i+1, names))"
   ]
  },
  {
   "cell_type": "markdown",
   "metadata": {},
   "source": [
    "We plot all the restaurants on the map of Sofia"
   ]
  },
  {
   "cell_type": "code",
   "execution_count": null,
   "metadata": {},
   "outputs": [],
   "source": [
    "map_sofia = folium.Map(location=sofia_center, zoom_start=13)\n",
    "folium.Marker(sofia_center, popup='Court House').add_to(map_sofia)\n",
    "for res in restaurants.values():\n",
    "    lat = res[2]; lon = res[3]\n",
    "    is_romanian = res[6]\n",
    "    color = 'red' if is_romanian else 'blue'\n",
    "    folium.CircleMarker([lat, lon], radius=3, color=color, fill=True, fill_color=color, fill_opacity=1).add_to(map_sofia)\n",
    "map_sofia"
   ]
  },
  {
   "cell_type": "markdown",
   "metadata": {},
   "source": [
    "Not bad. These are all the restaurants in an area of 6 kilometers from the Court House, and there are no Romanian restaurants. This is a very good niche for every entrepreneur who want to open such a venue.  \n",
    "\n",
    "We also know the coordinates of every \"neighborhood\" and restaurant.\n",
    "\n",
    "We are so far ready with the collection and the processing of data. Now we can proceed to analysis and determination of optimal locations for a new Romanian restaurant."
   ]
  },
  {
   "cell_type": "markdown",
   "metadata": {},
   "source": [
    "## Methodology <a name=\"methodology\"></a>"
   ]
  },
  {
   "cell_type": "markdown",
   "metadata": {},
   "source": [
    "### 1.Restaurants Analysis\n",
    "\n",
    "In the first part of our analysis we will use the obtained restaurants data in order to analyse the **density of restaurants** in the given areas (**radius of 6 km from the city center**). Density of Romanian/Bulgarian restaurants would be also of interest, but **as we already found out, there are no Romanian restaurants in Sofia and as we will later find out there are no Bulgarian restaurants in Bucharest, too**. \n",
    "\n",
    "**Heatmaps** will be used to identify and visualize the areas with low restaurants density. \n",
    "\n",
    "**Areas with no more than 2 restaurants in radius of 250 meters** will be allocated as the most promising areas for future restaurant owners. The locations will be marked and **clusters of those locations (K-Means clustering)** will be created as a starting point for deeper exploration of the areas. \n",
    "\n",
    "\n",
    "### 2. Food Venues Analysis\n",
    "\n",
    "The **number** of food venues, different type of unique **categories** in the whole area and the **frequency** of different types of food venues near every spot (center of \"neighborhood\") will be analyzed. The **top 5 and top 10 of the venues** for every given address will be defined. On the basis of **the top 10 venues a K-Means clustering** will be applied in order to find the **5 most common clusters of top 10 venues in the city center**. **The 5 clusters from Sofia and their frequency will be compared to the five clusters in Bucharest and their frequency in order to get first impression of the atmosphere of the center of both cities**. \n"
   ]
  },
  {
   "cell_type": "markdown",
   "metadata": {},
   "source": [
    "### Analysis <a name=\"analysis\"></a>"
   ]
  },
  {
   "cell_type": "markdown",
   "metadata": {},
   "source": [
    "### 1. Restaurants Analysis - Sofia"
   ]
  },
  {
   "cell_type": "markdown",
   "metadata": {},
   "source": [
    "We continue with the processing and analysis of data in order to prepare it for the heatmaps. First we count the **number of restaurants in every area**:"
   ]
  },
  {
   "cell_type": "code",
   "execution_count": null,
   "metadata": {},
   "outputs": [],
   "source": [
    "location_restaurants_count = [len(res) for res in location_restaurants]\n",
    "\n",
    "df_locations['Restaurants in area'] = location_restaurants_count\n",
    "\n",
    "print('Average number of restaurants in every area with radius=300m:', np.array(location_restaurants_count).mean())\n",
    "\n",
    "df_locations.head(10)"
   ]
  },
  {
   "cell_type": "code",
   "execution_count": null,
   "metadata": {},
   "outputs": [],
   "source": [
    "def boroughs_style(feature):\n",
    "    return { 'color': 'blue', 'fill': False }"
   ]
  },
  {
   "cell_type": "code",
   "execution_count": null,
   "metadata": {},
   "outputs": [],
   "source": [
    "restaurant_latlons = [[res[2], res[3]] for res in restaurants.values()]"
   ]
  },
  {
   "cell_type": "markdown",
   "metadata": {},
   "source": [
    "We are ready to plot the data on a **heatmap / density of restaurants**. Also, let's show on our map a few circles indicating distance of 1km, 2km and 3km from the Court House."
   ]
  },
  {
   "cell_type": "code",
   "execution_count": null,
   "metadata": {},
   "outputs": [],
   "source": [
    "map_sofia = folium.Map(location=sofia_center, zoom_start=13)\n",
    "folium.TileLayer('cartodbpositron').add_to(map_sofia) \n",
    "HeatMap(restaurant_latlons).add_to(map_sofia)\n",
    "folium.Marker(sofia_center).add_to(map_sofia)\n",
    "folium.Circle(sofia_center, radius=1000, fill=False, color='white').add_to(map_sofia)\n",
    "folium.Circle(sofia_center, radius=2000, fill=False, color='white').add_to(map_sofia)\n",
    "folium.Circle(sofia_center, radius=3000, fill=False, color='white').add_to(map_sofia)\n",
    "map_sofia"
   ]
  },
  {
   "cell_type": "markdown",
   "metadata": {},
   "source": [
    "We further define a new, more narrow region of interest with radius 2500 meters, which will include low-restaurant-count South - East from Sofia's Court House, which is a place rich on parks, nice surroundings and near the center. Much better than the low resataurant dencity part on the Nord - East from the Court House  "
   ]
  },
  {
   "cell_type": "code",
   "execution_count": null,
   "metadata": {},
   "outputs": [],
   "source": [
    "roi_x_min = sofia_center_x - 2000\n",
    "roi_y_max = sofia_center_y + 1000\n",
    "roi_width = 5000\n",
    "roi_height = 5000\n",
    "roi_center_x = roi_x_min + 2500\n",
    "roi_center_y = roi_y_max - 2500\n",
    "roi_center_lon, roi_center_lat = xy_to_lonlat(roi_center_x, roi_center_y)\n",
    "roi_center = [roi_center_lat, roi_center_lon]\n",
    "\n",
    "map_sofia = folium.Map(location=roi_center, zoom_start=14)\n",
    "HeatMap(restaurant_latlons).add_to(map_sofia)\n",
    "folium.Marker(sofia_center).add_to(map_sofia)\n",
    "folium.Circle(roi_center, radius=2500, color='white', fill=True, fill_opacity=0.4).add_to(map_sofia)\n",
    "map_sofia"
   ]
  },
  {
   "cell_type": "markdown",
   "metadata": {},
   "source": [
    "We get a nice visualization of the low restaurants dencity areas near the Court House\n",
    "\n",
    "We then create a new more dense grid of \"neighborhoods\" only 50m in radius (100m \"neighborhood\" center from one another)."
   ]
  },
  {
   "cell_type": "code",
   "execution_count": null,
   "metadata": {},
   "outputs": [],
   "source": [
    "k = math.sqrt(3) / 2 # Vertical offset for hexagonal grid cells\n",
    "x_step = 100\n",
    "y_step = 100 * k \n",
    "roi_y_min = roi_center_y - 2500\n",
    "\n",
    "roi_latitudes = []\n",
    "roi_longitudes = []\n",
    "roi_xs = []\n",
    "roi_ys = []\n",
    "for i in range(0, int(51/k)):\n",
    "    y = roi_y_min + i * y_step\n",
    "    x_offset = 50 if i%2==0 else 0\n",
    "    for j in range(0, 51):\n",
    "        x = roi_x_min + j * x_step + x_offset\n",
    "        d = calc_xy_distance(roi_center_x, roi_center_y, x, y)\n",
    "        if (d <= 2501):\n",
    "            lon, lat = xy_to_lonlat(x, y)\n",
    "            roi_latitudes.append(lat)\n",
    "            roi_longitudes.append(lon)\n",
    "            roi_xs.append(x)\n",
    "            roi_ys.append(y)\n",
    "\n",
    "print(len(roi_latitudes), 'candidate neighborhood centers generated.')"
   ]
  },
  {
   "cell_type": "markdown",
   "metadata": {},
   "source": [
    "We then calculate once more one of the most important factors for the future restaurant owners: **number of restaurants in vicinity** (we'll use radius of **250 meters**)."
   ]
  },
  {
   "cell_type": "code",
   "execution_count": null,
   "metadata": {},
   "outputs": [],
   "source": [
    "def count_restaurants_nearby(x, y, restaurants, radius=250):    \n",
    "    count = 0\n",
    "    for res in restaurants.values():\n",
    "        res_x = res[7]; res_y = res[8]\n",
    "        d = calc_xy_distance(x, y, res_x, res_y)\n",
    "        if d<=radius:\n",
    "            count += 1\n",
    "    return count\n",
    "\n",
    "def find_nearest_restaurant(x, y, restaurants):\n",
    "    d_min = 100000\n",
    "    for res in restaurants.values():\n",
    "        res_x = res[7]; res_y = res[8]\n",
    "        d = calc_xy_distance(x, y, res_x, res_y)\n",
    "        if d<=d_min:\n",
    "            d_min = d\n",
    "    return d_min\n",
    "\n",
    "roi_restaurant_counts = []\n",
    "roi_romanian_distances = []\n",
    "\n",
    "print('Generating data on location candidates... ', end='')\n",
    "for x, y in zip(roi_xs, roi_ys):\n",
    "    count = count_restaurants_nearby(x, y, restaurants, radius=250)\n",
    "    roi_restaurant_counts.append(count)\n",
    "print('done.')"
   ]
  },
  {
   "cell_type": "code",
   "execution_count": null,
   "metadata": {},
   "outputs": [],
   "source": [
    "# Let's put this into a dataframe\n",
    "df_roi_locations = pd.DataFrame({'Latitude':roi_latitudes,\n",
    "                                 'Longitude':roi_longitudes,\n",
    "                                 'X':roi_xs,\n",
    "                                 'Y':roi_ys,\n",
    "                                 'Restaurants nearby':roi_restaurant_counts})\n",
    "\n",
    "df_roi_locations.head(10)"
   ]
  },
  {
   "cell_type": "markdown",
   "metadata": {},
   "source": [
    "We then **filter** those locations: we're interested only in **locations with no more than two restaurants in radius of 250 meters**, and **no Romanian restaurants in a given radius, but as already metioned, since we don't have Romanian restaurants in Sofia according to our data, this is not a factor any more**."
   ]
  },
  {
   "cell_type": "code",
   "execution_count": null,
   "metadata": {},
   "outputs": [],
   "source": [
    "good_res_count = np.array((df_roi_locations['Restaurants nearby']<=2))\n",
    "print('Locations with no more than two restaurants nearby:', good_res_count.sum())\n",
    "\n",
    "df_good_locations = df_roi_locations[good_res_count]"
   ]
  },
  {
   "cell_type": "markdown",
   "metadata": {},
   "source": [
    "Let's plot this on a map."
   ]
  },
  {
   "cell_type": "code",
   "execution_count": null,
   "metadata": {},
   "outputs": [],
   "source": [
    "good_latitudes = df_good_locations['Latitude'].values\n",
    "good_longitudes = df_good_locations['Longitude'].values\n",
    "\n",
    "good_locations = [[lat, lon] for lat, lon in zip(good_latitudes, good_longitudes)]\n",
    "\n",
    "map_sofia = folium.Map(location=roi_center, zoom_start=14)\n",
    "folium.TileLayer('cartodbpositron').add_to(map_sofia)\n",
    "HeatMap(restaurant_latlons).add_to(map_sofia)\n",
    "folium.Circle(roi_center, radius=2500, color='white', fill=True, fill_opacity=0.6).add_to(map_sofia)\n",
    "folium.Marker(sofia_center).add_to(map_sofia)\n",
    "for lat, lon in zip(good_latitudes, good_longitudes):\n",
    "    folium.CircleMarker([lat, lon], radius=2, color='blue', fill=True, fill_color='blue', fill_opacity=1).add_to(map_sofia) \n",
    "map_sofia"
   ]
  },
  {
   "cell_type": "markdown",
   "metadata": {},
   "source": [
    "Great. We now have plenty of areas fairly close to the Court House with no more than two restaurants in a radius of 250m. Any of those locations is a potential candidate for a new Romanian restaurant, at least based on nearby competition.\n",
    "\n",
    "We further highlight these locations on a heatmap:"
   ]
  },
  {
   "cell_type": "code",
   "execution_count": null,
   "metadata": {},
   "outputs": [],
   "source": [
    "map_sofia = folium.Map(location=roi_center, zoom_start=14)\n",
    "HeatMap(good_locations, radius=25).add_to(map_sofia)\n",
    "folium.Marker(sofia_center).add_to(map_sofia)\n",
    "for lat, lon in zip(good_latitudes, good_longitudes):\n",
    "    folium.CircleMarker([lat, lon], radius=2, color='blue', fill=True, fill_color='blue', fill_opacity=1).add_to(map_sofia)\n",
    "map_sofia"
   ]
  },
  {
   "cell_type": "markdown",
   "metadata": {},
   "source": [
    "This is a great visualization of potential regions for a future Romanian restaurant. \n",
    "\n",
    "Let us now **cluster** these areas in order to get  **centers of areas with good locations for further analysis**. Highlighting these zones, their centers and getting their addresses will be the final part of our analysis. "
   ]
  },
  {
   "cell_type": "code",
   "execution_count": null,
   "metadata": {},
   "outputs": [],
   "source": [
    "number_of_clusters = 15\n",
    "\n",
    "good_xys = df_good_locations[['X', 'Y']].values\n",
    "kmeans = KMeans(n_clusters=number_of_clusters, random_state=0).fit(good_xys)\n",
    "\n",
    "cluster_centers = [xy_to_lonlat(cc[0], cc[1]) for cc in kmeans.cluster_centers_]\n",
    "\n",
    "map_sofia = folium.Map(location=roi_center, zoom_start=14)\n",
    "folium.TileLayer('cartodbpositron').add_to(map_sofia)\n",
    "HeatMap(restaurant_latlons).add_to(map_sofia)\n",
    "folium.Circle(roi_center, radius=2500, color='white', fill=True, fill_opacity=0.4).add_to(map_sofia)\n",
    "folium.Marker(sofia_center).add_to(map_sofia)\n",
    "for lon, lat in cluster_centers:\n",
    "    folium.Circle([lat, lon], radius=500, color='green', fill=True, fill_opacity=0.25).add_to(map_sofia) \n",
    "for lat, lon in zip(good_latitudes, good_longitudes):\n",
    "    folium.CircleMarker([lat, lon], radius=2, color='blue', fill=True, fill_color='blue', fill_opacity=1).add_to(map_sofia)\n",
    "map_sofia"
   ]
  },
  {
   "cell_type": "markdown",
   "metadata": {},
   "source": [
    "Our clusters represent groupings of most of the appropriate locations and cluster centers are placed nicely in the middle of the areas.\n",
    "\n",
    "We finally post those areas without heatmap, using shaded areas to better indicate our clusters. One can zoom the map and observe the areas closer."
   ]
  },
  {
   "cell_type": "code",
   "execution_count": null,
   "metadata": {},
   "outputs": [],
   "source": [
    "map_sofia = folium.Map(location=roi_center, zoom_start=14)\n",
    "folium.Marker(sofia_center).add_to(map_sofia)\n",
    "for lat, lon in zip(good_latitudes, good_longitudes):\n",
    "    folium.Circle([lat, lon], radius=250, color='#00000000', fill=True, fill_color='#0066ff', fill_opacity=0.07).add_to(map_sofia)\n",
    "for lat, lon in zip(good_latitudes, good_longitudes):\n",
    "    folium.CircleMarker([lat, lon], radius=2, color='blue', fill=True, fill_color='blue', fill_opacity=1).add_to(map_sofia)\n",
    "for lon, lat in cluster_centers:\n",
    "    folium.Circle([lat, lon], radius=500, color='green', fill=False).add_to(map_sofia) \n",
    "map_sofia"
   ]
  },
  {
   "cell_type": "markdown",
   "metadata": {},
   "source": [
    "Getting the addresses of those clusters' centres will be a good starting point for further exploration of those neighborhoods to find the best possible location for a restaurant."
   ]
  },
  {
   "cell_type": "markdown",
   "metadata": {},
   "source": [
    "We get them with a reverse geocoding. "
   ]
  },
  {
   "cell_type": "code",
   "execution_count": null,
   "metadata": {},
   "outputs": [],
   "source": [
    "candidate_area_addresses = []\n",
    "print('==============================================================')\n",
    "print('Addresses of centers of areas recommended for further analysis')\n",
    "print('==============================================================\\n')\n",
    "for lon, lat in cluster_centers:\n",
    "    addr = get_address(api_key, lat, lon).replace(', Bulgaria', '')\n",
    "    candidate_area_addresses.append(addr)    \n",
    "    x, y = lonlat_to_xy(lon, lat)\n",
    "    d = calc_xy_distance(x, y, sofia_center_x, sofia_center_y)\n",
    "    print('{}{} => {:.1f}km from Court House'.format(addr, ' '*(50-len(addr)), d/1000))"
   ]
  },
  {
   "cell_type": "markdown",
   "metadata": {},
   "source": [
    "This concludes our Restaurants Analysis of Sofia. We have generated 15 addresses representing centers of areas with low number of restaurants and no Romanian restaurants nearby, all zones being fairly close to city center. Although the areas are surrounded in green circles, their shape is very irregular and these addresses, as already mentioned should be concidered as a starting point for the further analysis of the area for defining the concrete location of a restaurant. "
   ]
  },
  {
   "cell_type": "code",
   "execution_count": null,
   "metadata": {},
   "outputs": [],
   "source": [
    "map_sofia = folium.Map(location=roi_center, zoom_start=14)\n",
    "folium.Circle(sofia_center, radius=50, color='red', fill=True, fill_color='red', fill_opacity=1).add_to(map_sofia)\n",
    "for lonlat, addr in zip(cluster_centers, candidate_area_addresses):\n",
    "    folium.Marker([lonlat[1], lonlat[0]], popup=addr).add_to(map_sofia) \n",
    "for lat, lon in zip(good_latitudes, good_longitudes):\n",
    "    folium.Circle([lat, lon], radius=250, color='#0000ff00', fill=True, fill_color='#0066ff', fill_opacity=0.05).add_to(map_sofia)\n",
    "map_sofia"
   ]
  },
  {
   "cell_type": "markdown",
   "metadata": {},
   "source": [
    "### 2. Food Venues Analysis - Sofia\n"
   ]
  },
  {
   "cell_type": "markdown",
   "metadata": {},
   "source": [
    "We use the \"nearby_venues\" data obtained at the beginning in order to transform it into a nice data frame which we will use for our further analysis - we have the lat,lon of the 'neighbourhood' center, the name and type of the food venues and their coordinates, too. So we need names of the columns and the addresses of the neighborhoods. We get them with the help ot their latitude - longitude.  "
   ]
  },
  {
   "cell_type": "code",
   "execution_count": null,
   "metadata": {},
   "outputs": [],
   "source": [
    "nearby_venues.columns = ['Neighborhood Latitude', \n",
    "                  'Neighborhood Longitude', \n",
    "                  'Venue', \n",
    "                  'Venue Latitude', \n",
    "                  'Venue Longitude', \n",
    "                  'Venue Category']"
   ]
  },
  {
   "cell_type": "code",
   "execution_count": null,
   "metadata": {},
   "outputs": [],
   "source": [
    "nearby_venues.head()"
   ]
  },
  {
   "cell_type": "code",
   "execution_count": null,
   "metadata": {},
   "outputs": [],
   "source": [
    "new_df = pd.merge(nearby_venues, df_locations[['Address','Latitude','Longitude']],  how='left', left_on=['Neighborhood Latitude','Neighborhood Longitude'], right_on = ['Latitude','Longitude'])"
   ]
  },
  {
   "cell_type": "code",
   "execution_count": null,
   "metadata": {},
   "outputs": [],
   "source": [
    "new_df.drop('Longitude', inplace=True, axis=1)\n",
    "new_df.drop('Latitude', inplace=True, axis=1)"
   ]
  },
  {
   "cell_type": "code",
   "execution_count": null,
   "metadata": {},
   "outputs": [],
   "source": [
    "new_df = new_df.rename(columns={'Address': 'Neighborhood'})"
   ]
  },
  {
   "cell_type": "code",
   "execution_count": null,
   "metadata": {},
   "outputs": [],
   "source": [
    "sofia_center_venues = new_df[['Neighborhood', 'Neighborhood Latitude', 'Neighborhood Longitude', 'Venue', 'Venue Latitude','Venue Longitude','Venue Category']]"
   ]
  },
  {
   "cell_type": "code",
   "execution_count": null,
   "metadata": {},
   "outputs": [],
   "source": [
    "print(sofia_center_venues.shape)\n",
    "sofia_center_venues.head()"
   ]
  },
  {
   "cell_type": "markdown",
   "metadata": {},
   "source": [
    "OK. We now have the data frame we need for the analysis. Let's check how many venues were returned for each neighborhood"
   ]
  },
  {
   "cell_type": "code",
   "execution_count": null,
   "metadata": {},
   "outputs": [],
   "source": [
    "number_of_venues = sofia_center_venues.groupby('Neighborhood').count()\n",
    "number_of_venues"
   ]
  },
  {
   "cell_type": "code",
   "execution_count": null,
   "metadata": {},
   "outputs": [],
   "source": [
    "number_of_venues.shape"
   ]
  },
  {
   "cell_type": "markdown",
   "metadata": {},
   "source": [
    "Let us check how many unique categories of venues we have "
   ]
  },
  {
   "cell_type": "code",
   "execution_count": null,
   "metadata": {},
   "outputs": [],
   "source": [
    "print('There are {} unique categories.'.format(len(sofia_center_venues['Venue Category'].unique())))"
   ]
  },
  {
   "cell_type": "markdown",
   "metadata": {},
   "source": [
    "Let's analyse the frequency of any given venue on the particular address"
   ]
  },
  {
   "cell_type": "code",
   "execution_count": null,
   "metadata": {},
   "outputs": [],
   "source": [
    "# one hot encoding\n",
    "sofia_center_onehot = pd.get_dummies(sofia_center_venues[['Venue Category']], prefix=\"\", prefix_sep=\"\")\n",
    "\n",
    "# add neighborhood column back to dataframe\n",
    "sofia_center_onehot['Neighborhood'] = sofia_center_venues['Neighborhood'] \n",
    "\n",
    "# move neighborhood column to the first column\n",
    "fixed_columns = [sofia_center_onehot.columns[-1]] + list(sofia_center_onehot.columns[:-1])\n",
    "sofia_center_onehot = sofia_center_onehot[fixed_columns]\n",
    "\n",
    "sofia_center_onehot.head()"
   ]
  },
  {
   "cell_type": "markdown",
   "metadata": {},
   "source": [
    "And let's examine the new dataframe size."
   ]
  },
  {
   "cell_type": "code",
   "execution_count": null,
   "metadata": {},
   "outputs": [],
   "source": [
    "sofia_center_onehot.shape"
   ]
  },
  {
   "cell_type": "markdown",
   "metadata": {},
   "source": [
    "Next we group rows by neighborhood and take the mean of the frequency of occurrence of each category"
   ]
  },
  {
   "cell_type": "code",
   "execution_count": null,
   "metadata": {
    "scrolled": false
   },
   "outputs": [],
   "source": [
    "sofia_center_grouped = sofia_center_onehot.groupby('Neighborhood').mean().reset_index()\n",
    "sofia_center_grouped.head()"
   ]
  },
  {
   "cell_type": "markdown",
   "metadata": {},
   "source": [
    "Let's check the new size"
   ]
  },
  {
   "cell_type": "code",
   "execution_count": null,
   "metadata": {},
   "outputs": [],
   "source": [
    "sofia_center_grouped.shape"
   ]
  },
  {
   "cell_type": "markdown",
   "metadata": {},
   "source": [
    "Let's print each neighborhood along with the top 5 most common venues"
   ]
  },
  {
   "cell_type": "code",
   "execution_count": null,
   "metadata": {},
   "outputs": [],
   "source": [
    "num_top_venues = 5\n",
    "\n",
    "for hood in sofia_center_grouped['Neighborhood']:\n",
    "    print(\"----\"+hood+\"----\")\n",
    "    temp = sofia_center_grouped[sofia_center_grouped['Neighborhood'] == hood].T.reset_index()\n",
    "    temp.columns = ['venue','freq']\n",
    "    temp = temp.iloc[1:]\n",
    "    temp['freq'] = temp['freq'].astype(float)\n",
    "    temp = temp.round({'freq': 2})\n",
    "    print(temp.sort_values('freq', ascending=False).reset_index(drop=True).head(num_top_venues))\n",
    "    print('\\n')"
   ]
  },
  {
   "cell_type": "markdown",
   "metadata": {},
   "source": [
    "After that we put that into a _pandas_ dataframe"
   ]
  },
  {
   "cell_type": "markdown",
   "metadata": {},
   "source": [
    "First, we write a function to sort the venues in a descending order."
   ]
  },
  {
   "cell_type": "code",
   "execution_count": null,
   "metadata": {},
   "outputs": [],
   "source": [
    "def return_most_common_venues(row, num_top_venues):\n",
    "    row_categories = row.iloc[1:]\n",
    "    row_categories_sorted = row_categories.sort_values(ascending=False)\n",
    "    \n",
    "    return row_categories_sorted.index.values[0:num_top_venues]"
   ]
  },
  {
   "cell_type": "markdown",
   "metadata": {},
   "source": [
    "After that we create a new dataframe and display the top 10 venues for each neighborhood."
   ]
  },
  {
   "cell_type": "code",
   "execution_count": null,
   "metadata": {},
   "outputs": [],
   "source": [
    "num_top_venues = 10\n",
    "\n",
    "indicators = ['st', 'nd', 'rd']\n",
    "\n",
    "# create columns according to number of top venues\n",
    "columns = ['Neighborhood']\n",
    "for ind in np.arange(num_top_venues):\n",
    "    try:\n",
    "        columns.append('{}{} Most Common Venue'.format(ind+1, indicators[ind]))\n",
    "    except:\n",
    "        columns.append('{}th Most Common Venue'.format(ind+1))\n",
    "\n",
    "# create a new dataframe\n",
    "neighborhoods_venues_sorted = pd.DataFrame(columns=columns)\n",
    "neighborhoods_venues_sorted['Neighborhood'] = sofia_center_grouped['Neighborhood']\n",
    "\n",
    "for ind in np.arange(sofia_center_grouped.shape[0]):\n",
    "    neighborhoods_venues_sorted.iloc[ind, 1:] = return_most_common_venues(sofia_center_grouped.iloc[ind, :], num_top_venues)\n",
    "\n",
    "neighborhoods_venues_sorted.head()"
   ]
  },
  {
   "cell_type": "markdown",
   "metadata": {},
   "source": [
    "After that we cluster the Neighborhoods in 5 clusters after we run _K_-Means"
   ]
  },
  {
   "cell_type": "code",
   "execution_count": null,
   "metadata": {},
   "outputs": [],
   "source": [
    "# set number of clusters\n",
    "kclusters = 5\n",
    "\n",
    "sofia_center_grouped_clustering = sofia_center_grouped.drop('Neighborhood', 1)\n",
    "\n",
    "# run k-means clustering\n",
    "kmeans = KMeans(n_clusters=kclusters, random_state=0).fit(sofia_center_grouped_clustering)\n",
    "\n",
    "# check cluster labels generated for each row in the dataframe\n",
    "kmeans.labels_[0:10] "
   ]
  },
  {
   "cell_type": "markdown",
   "metadata": {},
   "source": [
    "We create a new dataframe that includes the cluster and the top 10 venues for each neighborhood."
   ]
  },
  {
   "cell_type": "code",
   "execution_count": null,
   "metadata": {},
   "outputs": [],
   "source": [
    "neighborhoods_venues_sorted.insert(0, 'Cluster Labels', kmeans.labels_)\n",
    "\n",
    "sofia_center_merged = df_locations\n",
    "\n",
    "# merge sofia_center_grouped with sofia_center_data to add latitude/longitude for each neighborhood\n",
    "sofia_center_merged = sofia_center_merged[[\"Address\",\"Latitude\",\"Longitude\"]].join(neighborhoods_venues_sorted.set_index('Neighborhood'), on='Address')\n",
    "\n",
    "sofia_center_merged # check the last columns!"
   ]
  },
  {
   "cell_type": "code",
   "execution_count": null,
   "metadata": {},
   "outputs": [],
   "source": [
    "sofia_center_merged = sofia_center_merged.dropna(axis=0)"
   ]
  },
  {
   "cell_type": "code",
   "execution_count": null,
   "metadata": {},
   "outputs": [],
   "source": [
    "sofia_center_merged[\"Cluster Labels\"] = sofia_center_merged[\"Cluster Labels\"].astype(int)\n",
    "\n",
    "sofia_center_merged\n"
   ]
  },
  {
   "cell_type": "code",
   "execution_count": null,
   "metadata": {},
   "outputs": [],
   "source": [
    "latitude = sofia_center[0] \n",
    "longitude = sofia_center[1]"
   ]
  },
  {
   "cell_type": "markdown",
   "metadata": {},
   "source": [
    "Finally, we visualize the resulting clusters"
   ]
  },
  {
   "cell_type": "code",
   "execution_count": null,
   "metadata": {},
   "outputs": [],
   "source": [
    "# create map\n",
    "map_clusters = folium.Map(location=[latitude, longitude], zoom_start=11)\n",
    "\n",
    "# set color scheme for the clusters\n",
    "x = np.arange(kclusters)\n",
    "ys = [i + x + (i*x)**2 for i in range(kclusters)]\n",
    "colors_array = cm.rainbow(np.linspace(0, 1, len(ys)))\n",
    "rainbow = [colors.rgb2hex(i) for i in colors_array]\n",
    "\n",
    "# add markers to the map\n",
    "markers_colors = []\n",
    "for lat, lon, poi, cluster in zip(sofia_center_merged['Latitude'], sofia_center_merged['Longitude'], sofia_center_merged['Address'], sofia_center_merged['Cluster Labels']):\n",
    "    label = folium.Popup(str(poi) + ' Cluster ' + str(cluster), parse_html=True)\n",
    "    folium.CircleMarker(\n",
    "        [lat, lon],\n",
    "        radius=5,\n",
    "        popup=label,\n",
    "        color=rainbow[cluster-1],\n",
    "        fill=True,\n",
    "        fill_color=rainbow[cluster-1],\n",
    "        fill_opacity=0.7).add_to(map_clusters)\n",
    "       \n",
    "map_clusters"
   ]
  },
  {
   "cell_type": "markdown",
   "metadata": {},
   "source": [
    "Examining the clusters, first we can add the number of the venues to every neighborhood"
   ]
  },
  {
   "cell_type": "code",
   "execution_count": null,
   "metadata": {},
   "outputs": [],
   "source": [
    "number_of_venues = number_of_venues[['Venue']]\n",
    "number_of_venues.index.names = ['Address']"
   ]
  },
  {
   "cell_type": "code",
   "execution_count": null,
   "metadata": {},
   "outputs": [],
   "source": [
    "sofia_center_merged = pd.merge(sofia_center_merged, number_of_venues, on=[\"Address\"])"
   ]
  },
  {
   "cell_type": "code",
   "execution_count": null,
   "metadata": {},
   "outputs": [],
   "source": [
    "sofia_center_merged"
   ]
  },
  {
   "cell_type": "markdown",
   "metadata": {},
   "source": [
    "Now, we can examine each cluster and determine the discriminating venue categories that distinguish each one and name them"
   ]
  },
  {
   "cell_type": "markdown",
   "metadata": {},
   "source": [
    "##### 1.We can surely call the first cluster in Sofia \"BBQ Joint\" cluster"
   ]
  },
  {
   "cell_type": "code",
   "execution_count": null,
   "metadata": {},
   "outputs": [],
   "source": [
    "sofia_center_merged.loc[sofia_center_merged['Cluster Labels'] == 0, sofia_center_merged.columns[[0] + list(range(4, sofia_center_merged.shape[1]))]]"
   ]
  },
  {
   "cell_type": "markdown",
   "metadata": {},
   "source": [
    "##### 2.The second one is definitely the \"Common Restaurants\" cluster "
   ]
  },
  {
   "cell_type": "code",
   "execution_count": null,
   "metadata": {},
   "outputs": [],
   "source": [
    "sofia_center_merged.loc[sofia_center_merged['Cluster Labels'] == 1, sofia_center_merged.columns[[0] + list(range(4, sofia_center_merged.shape[1]))]]"
   ]
  },
  {
   "cell_type": "markdown",
   "metadata": {},
   "source": [
    "##### 3. The third is the \"Cafes, Snack, Bakery\" cluster"
   ]
  },
  {
   "cell_type": "code",
   "execution_count": null,
   "metadata": {},
   "outputs": [],
   "source": [
    "sofia_center_merged.loc[sofia_center_merged['Cluster Labels'] == 2, sofia_center_merged.columns[[0] + list(range(4, sofia_center_merged.shape[1]))]]"
   ]
  },
  {
   "cell_type": "markdown",
   "metadata": {},
   "source": [
    "##### 4. The fourth is the \"Fast food\" Cluster "
   ]
  },
  {
   "cell_type": "code",
   "execution_count": null,
   "metadata": {},
   "outputs": [],
   "source": [
    "sofia_center_merged.loc[sofia_center_merged['Cluster Labels'] == 3, sofia_center_merged.columns[[0] + list(range(4, sofia_center_merged.shape[1]))]]"
   ]
  },
  {
   "cell_type": "markdown",
   "metadata": {},
   "source": [
    "##### 5. We can surely call the fifth cluster in Sofia \"The rich on International Restaurants\" cluster, where the number of venues per address is much higher, too"
   ]
  },
  {
   "cell_type": "code",
   "execution_count": null,
   "metadata": {},
   "outputs": [],
   "source": [
    "sofia_center_merged.loc[sofia_center_merged['Cluster Labels'] == 4, sofia_center_merged.columns[[0] + list(range(4, sofia_center_merged.shape[1]))]]"
   ]
  },
  {
   "cell_type": "markdown",
   "metadata": {},
   "source": [
    "One can easily recognise that the predominant cluster in Sofia is luckily the fourth one - the \"Rich on International Restaurants\" cluster, followed by the \"Common Restaurants\" and the \"Cafes\" cluster. And again luckily much - much less neighborhoods fall in the \"BBQ Joint\" and \"The Fast Food\" clusters. We will thoroughly discuss the results in the final steps of our analysis. \n",
    "\n",
    "We should first continue with the analysis of the center of Bucharest. Absolutely the same technique as the one for Sofia was used, so I will not loose time on commenting the steps. There are only comments referring to the previous section.   "
   ]
  },
  {
   "cell_type": "markdown",
   "metadata": {},
   "source": [
    "<h1><center>Bucharest</center></h1>"
   ]
  },
  {
   "cell_type": "code",
   "execution_count": null,
   "metadata": {},
   "outputs": [],
   "source": [
    "bucharest_center= ['44.43320239120804', '26.10238305064323']"
   ]
  },
  {
   "cell_type": "code",
   "execution_count": null,
   "metadata": {},
   "outputs": [],
   "source": [
    "def lonlat_to_xy(lon, lat):\n",
    "    proj_latlon = pyproj.Proj(proj='latlong',datum='WGS84')\n",
    "    proj_xy = pyproj.Proj(proj=\"utm\", zone=33, datum='WGS84')\n",
    "    xy = pyproj.transform(proj_latlon, proj_xy, lon, lat)\n",
    "    return xy[0], xy[1]\n",
    "\n",
    "def xy_to_lonlat(x, y):\n",
    "    proj_latlon = pyproj.Proj(proj='latlong',datum='WGS84')\n",
    "    proj_xy = pyproj.Proj(proj=\"utm\", zone=33, datum='WGS84')\n",
    "    lonlat = pyproj.transform(proj_xy, proj_latlon, x, y)\n",
    "    return lonlat[0], lonlat[1]\n",
    "\n",
    "def calc_xy_distance(x1, y1, x2, y2):\n",
    "    dx = x2 - x1\n",
    "    dy = y2 - y1\n",
    "    return math.sqrt(dx*dx + dy*dy)\n",
    "\n",
    "print('Coordinate transformation check')\n",
    "print('-------------------------------')\n",
    "print('bucharest center longitude={}, latitude={}'.format(bucharest_center[1], bucharest_center[0]))\n",
    "x, y = lonlat_to_xy(bucharest_center[1], bucharest_center[0])\n",
    "print('bucharest center UTM X={}, Y={}'.format(x, y))\n",
    "lo, la = xy_to_lonlat(x, y)\n",
    "print('bucharest center longitude={}, latitude={}'.format(lo, la))"
   ]
  },
  {
   "cell_type": "code",
   "execution_count": null,
   "metadata": {},
   "outputs": [],
   "source": [
    "bucharest_center_x, bucharest_center_y = lonlat_to_xy(bucharest_center[1], bucharest_center[0]) # City center in Cartesian coordinates\n",
    "\n",
    "k = math.sqrt(3) / 2 # Vertical offset for hexagonal grid cells\n",
    "x_min = bucharest_center_x - 6000\n",
    "x_step = 600\n",
    "y_min = bucharest_center_y - 6000 - (int(21/k)*k*600 - 12000)/2\n",
    "y_step = 600 * k \n",
    "\n",
    "latitudes = []\n",
    "longitudes = []\n",
    "distances_from_center = []\n",
    "xs = []\n",
    "ys = []\n",
    "for i in range(0, int(21/k)):\n",
    "    y = y_min + i * y_step\n",
    "    x_offset = 300 if i%2==0 else 0\n",
    "    for j in range(0, 21):\n",
    "        x = x_min + j * x_step + x_offset\n",
    "        distance_from_center = calc_xy_distance(bucharest_center_x, bucharest_center_y, x, y)\n",
    "        if (distance_from_center <= 6001):\n",
    "            lon, lat = xy_to_lonlat(x, y)\n",
    "            latitudes.append(lat)\n",
    "            longitudes.append(lon)\n",
    "            distances_from_center.append(distance_from_center)\n",
    "            xs.append(x)\n",
    "            ys.append(y)\n",
    "\n",
    "print(len(latitudes), 'candidate neighborhood centers generated.')"
   ]
  },
  {
   "cell_type": "markdown",
   "metadata": {},
   "source": [
    "**The code is the same like the one used for Sofia**"
   ]
  },
  {
   "cell_type": "code",
   "execution_count": null,
   "metadata": {},
   "outputs": [],
   "source": [
    "map_bucharest = folium.Map(location=bucharest_center, zoom_start=13)\n",
    "folium.Marker(bucharest_center, popup='Court House').add_to(map_bucharest)\n",
    "for lat, lon in zip(latitudes, longitudes):\n",
    "    #folium.CircleMarker([lat, lon], radius=2, color='blue', fill=True, fill_color='blue', fill_opacity=1).add_to(map_berlin) \n",
    "    folium.Circle([lat, lon], radius=300, color='blue', fill=False).add_to(map_bucharest)\n",
    "    #folium.Marker([lat, lon]).add_to(map_berlin)\n",
    "map_bucharest"
   ]
  },
  {
   "cell_type": "code",
   "execution_count": null,
   "metadata": {},
   "outputs": [],
   "source": [
    "def get_address(api_key, latitude, longitude, verbose=False):\n",
    "    try:\n",
    "        url = 'https://maps.googleapis.com/maps/api/geocode/json?key={}&latlng={},{}'.format(api_key, latitude, longitude)\n",
    "        response = requests.get(url).json()\n",
    "        if verbose:\n",
    "            print('Google Maps API JSON result =>', response)\n",
    "        results = response['results']\n",
    "        address = results[0]['formatted_address']\n",
    "        return address\n",
    "    except:\n",
    "        return None\n",
    "\n",
    "addr = get_address(api_key, bucharest_center[0], bucharest_center[1])\n",
    "print('Reverse geocoding check')\n",
    "print('-----------------------')\n",
    "print('Address of [{}, {}] is: {}'.format(bucharest_center[0], bucharest_center[1], addr))"
   ]
  },
  {
   "cell_type": "code",
   "execution_count": null,
   "metadata": {},
   "outputs": [],
   "source": [
    "print('Obtaining location addresses: ', end='')\n",
    "addresses = []\n",
    "for lat, lon in zip(latitudes, longitudes):\n",
    "    address = get_address(api_key, lat, lon)\n",
    "    if address is None:\n",
    "        address = 'NO ADDRESS'\n",
    "    address = address.replace(', Romania', '') # We don't need country part of address\n",
    "    addresses.append(address)\n",
    "    print(' .', end='')\n",
    "print(' done.')"
   ]
  },
  {
   "cell_type": "markdown",
   "metadata": {},
   "source": [
    "**The code is the same like the one used for Sofia**"
   ]
  },
  {
   "cell_type": "code",
   "execution_count": null,
   "metadata": {},
   "outputs": [],
   "source": [
    "addresses[150:170]"
   ]
  },
  {
   "cell_type": "code",
   "execution_count": null,
   "metadata": {},
   "outputs": [],
   "source": [
    "df_locations = pd.DataFrame({'Address': addresses,\n",
    "                             'Latitude': latitudes,\n",
    "                             'Longitude': longitudes,\n",
    "                             'X': xs,\n",
    "                             'Y': ys,\n",
    "                             'Distance from center': distances_from_center})\n",
    "\n",
    "df_locations.head(10)"
   ]
  },
  {
   "cell_type": "code",
   "execution_count": null,
   "metadata": {},
   "outputs": [],
   "source": [
    "df_locations.to_pickle('./locations_romania.pkl')"
   ]
  },
  {
   "cell_type": "code",
   "execution_count": null,
   "metadata": {},
   "outputs": [],
   "source": [
    "# Category IDs corresponding to bulgarian restaurants were taken from Foursquare web site (https://developer.foursquare.com/docs/resources/categories):\n",
    "\n",
    "food_category = '4d4b7105d754a06374d81259' # 'Root' category for all food-related venues\n",
    "\n",
    "bulgarian_restaurant_categories = ['56aa371be4b08b9a8d5734f3']\n",
    "\n",
    "def is_restaurant(categories, specific_filter=None):\n",
    "    restaurant_words = ['restaurant', 'diner', 'taverna', 'steakhouse']\n",
    "    restaurant = False\n",
    "    specific = False\n",
    "    for c in categories:\n",
    "        category_name = c[0].lower()\n",
    "        category_id = c[1]\n",
    "        for r in restaurant_words:\n",
    "            if r in category_name:\n",
    "                restaurant = True\n",
    "        if 'fast food' in category_name:\n",
    "            restaurant = False\n",
    "        if not(specific_filter is None) and (category_id in specific_filter):\n",
    "            specific = True\n",
    "            restaurant = True\n",
    "    return restaurant, specific\n",
    "\n",
    "def get_categories(categories):\n",
    "    return [(cat['name'], cat['id']) for cat in categories]\n",
    "\n",
    "def format_address(location):\n",
    "    address = ', '.join(location['formattedAddress'])\n",
    "    address = address.replace(', Romania', '')\n",
    "    return address\n",
    "\n",
    "def get_venues_near_location(lat, lon, category, client_id, client_secret, radius=300, limit=100):\n",
    "    version = '20180724'\n",
    "    url = 'https://api.foursquare.com/v2/venues/explore?client_id={}&client_secret={}&v={}&ll={},{}&categoryId={}&radius={}&limit={}'.format(\n",
    "        client_id, client_secret, version, lat, lon, category, radius, limit)\n",
    "    #try:\n",
    "    results = requests.get(url).json()['response']['groups'][0]['items']\n",
    "    venues = [(item['venue']['id'],\n",
    "               item['venue']['name'],\n",
    "              get_categories(item['venue']['categories']),\n",
    "              (item['venue']['location']['lat'], item['venue']['location']['lng']),\n",
    "              format_address(item['venue']['location']),\n",
    "             item['venue']['location']['distance']) for item in results]        \n",
    "\n",
    "    venues_list.append([( \n",
    "        lat, \n",
    "        lon, \n",
    "        v['venue']['name'], \n",
    "        v['venue']['location']['lat'], \n",
    "        v['venue']['location']['lng'],  \n",
    "        v['venue']['categories'][0]['name']) for v in results])\n",
    "\n",
    "    nearby_venues = pd.DataFrame([item for venue_list in venues_list for item in venue_list])\n",
    "    \n",
    "#except:\n",
    " #   venues = [] \n",
    " #   nearby_venues = []\n",
    "    return venues, nearby_venues"
   ]
  },
  {
   "cell_type": "markdown",
   "metadata": {},
   "source": [
    "**The code is the same like the one used for Sofia**"
   ]
  },
  {
   "cell_type": "code",
   "execution_count": null,
   "metadata": {},
   "outputs": [],
   "source": [
    "def get_restaurants(lats, lons):\n",
    "    restaurants = {}\n",
    "    bulgaria_restaurants = {}\n",
    "    location_restaurants = []\n",
    "\n",
    "    print('Obtaining venues around candidate locations:', end='')\n",
    "    for lat, lon in zip(lats, lons):\n",
    "        # Using radius=350 to meke sure we have overlaps/full coverage so we don't miss any restaurant (we're using dictionaries to remove any duplicates resulting from area overlaps)\n",
    "        venues, nearby_venues = get_venues_near_location(lat, lon, food_category, client_id, client_secret, radius=300, limit=100)\n",
    "        area_restaurants = []\n",
    "        for venue in venues:\n",
    "            venue_id = venue[0]\n",
    "            venue_name = venue[1]\n",
    "            venue_categories = venue[2]\n",
    "            venue_latlon = venue[3]\n",
    "            venue_address = venue[4]\n",
    "            venue_distance = venue[5]\n",
    "            is_res, is_bulgarian = is_restaurant(venue_categories, specific_filter=bulgarian_restaurant_categories)\n",
    "            if is_res:\n",
    "                x, y = lonlat_to_xy(venue_latlon[1], venue_latlon[0])\n",
    "                restaurant = (venue_id, venue_name, venue_latlon[0], venue_latlon[1], venue_address, venue_distance, is_bulgarian, x, y)\n",
    "                if venue_distance<=300:\n",
    "                    area_restaurants.append(restaurant)\n",
    "                restaurants[venue_id] = restaurant\n",
    "                if is_romanian:\n",
    "                    bulgarian_restaurants[venue_id] = restaurant\n",
    "        location_restaurants.append(area_restaurants)\n",
    "        print(' .', end='')\n",
    "    print(' done.')\n",
    "    return restaurants, bulgarian_restaurants, location_restaurants, nearby_venues, venues\n",
    "\n",
    "# Try to load from local file system in case we did this before\n",
    "restaurants = {}\n",
    "bulgarian_restaurants = {}\n",
    "nearby_venues = {}\n",
    "location_restaurants = []\n",
    "venues_list = []\n",
    "loaded = False\n",
    "try:\n",
    "    \n",
    "    with open('restaurants_romania_350.pkl', 'rb') as f:\n",
    "        restaurants = pickle.load(f)\n",
    "    with open('bulgarian_restaurants_350.pkl', 'rb') as f:\n",
    "        romanian_restaurants = pickle.load(f)\n",
    "    with open('location_restaurants_romania_350.pkl', 'rb') as f:\n",
    "        location_restaurants = pickle.load(f)\n",
    "    with open('nearby_venues_romania_350.pkl', 'rb') as f:\n",
    "        nearby_venues = pickle.load(f)\n",
    "    print('Restaurant data loaded.')\n",
    "    loaded = True\n",
    "except:\n",
    "    pass\n",
    "\n",
    "# If load failed use the Foursquare API to get the data\n",
    "if not loaded:\n",
    "    \n",
    "    restaurants, bulgarian_restaurants, location_restaurants, nearby_venues,venues = get_restaurants(latitudes, longitudes)\n",
    "    \n",
    "    # Let's persists this in local file system\n",
    "    with open('restaurants_romania_350.pkl', 'wb') as f:\n",
    "        pickle.dump(restaurants, f)\n",
    "    with open('bulgarian_restaurants_350.pkl', 'wb') as f:\n",
    "        pickle.dump(romanian_restaurants, f)\n",
    "    with open('location_restaurants_romania_350.pkl', 'wb') as f:\n",
    "        pickle.dump(location_restaurants, f)\n",
    "    with open('nearby_venues_romania_350.pkl', 'wb') as f:\n",
    "        pickle.dump(nearby_venues, f)"
   ]
  },
  {
   "cell_type": "markdown",
   "metadata": {},
   "source": [
    "### 1. Restaurants Analysis - Bucharest"
   ]
  },
  {
   "cell_type": "code",
   "execution_count": null,
   "metadata": {},
   "outputs": [],
   "source": [
    "print('Total number of restaurants:', len(restaurants))\n",
    "print('Total number of Bulgarian restaurants:', len(bulgarian_restaurants))\n",
    "print('Percentage of Bulgarian restaurants: {:.2f}%'.format(len(bulgarian_restaurants) / len(restaurants) * 100))\n",
    "print('Average number of restaurants in neighborhood:', np.array([len(r) for r in location_restaurants]).mean())"
   ]
  },
  {
   "cell_type": "code",
   "execution_count": null,
   "metadata": {},
   "outputs": [],
   "source": [
    "print('List of all restaurants')\n",
    "print('-----------------------')\n",
    "for r in list(restaurants.values())[:10]:\n",
    "    print(r)\n",
    "print('...')\n",
    "print('Total:', len(restaurants))"
   ]
  },
  {
   "cell_type": "markdown",
   "metadata": {},
   "source": [
    "**The code is the same like the one used for Sofia**"
   ]
  },
  {
   "cell_type": "code",
   "execution_count": null,
   "metadata": {},
   "outputs": [],
   "source": [
    "print('Restaurants around location')\n",
    "print('---------------------------')\n",
    "for i in range(100, 110):\n",
    "    rs = location_restaurants[i][:8]\n",
    "    names = ', '.join([r[1] for r in rs])\n",
    "    print('Restaurants around location {}: {}'.format(i+1, names))"
   ]
  },
  {
   "cell_type": "code",
   "execution_count": null,
   "metadata": {},
   "outputs": [],
   "source": [
    "map_bucharest = folium.Map(location=bucharest_center, zoom_start=13)\n",
    "folium.Marker(bucharest_center, popup='Old City').add_to(map_bucharest)\n",
    "for res in restaurants.values():\n",
    "    lat = res[2]; lon = res[3]\n",
    "    is_bulgarian = res[6]\n",
    "    color = 'red' if is_bulgarian else 'blue'\n",
    "    folium.CircleMarker([lat, lon], radius=3, color=color, fill=True, fill_color=color, fill_opacity=1).add_to(map_bucharest)\n",
    "map_bucharest"
   ]
  },
  {
   "cell_type": "code",
   "execution_count": null,
   "metadata": {},
   "outputs": [],
   "source": [
    "location_restaurants_count = [len(res) for res in location_restaurants]\n",
    "\n",
    "df_locations['Restaurants in area'] = location_restaurants_count\n",
    "\n",
    "print('Average number of restaurants in every area with radius=300m:', np.array(location_restaurants_count).mean())\n",
    "\n",
    "df_locations.head(10)"
   ]
  },
  {
   "cell_type": "code",
   "execution_count": null,
   "metadata": {},
   "outputs": [],
   "source": [
    "df_locations.shape"
   ]
  },
  {
   "cell_type": "code",
   "execution_count": null,
   "metadata": {},
   "outputs": [],
   "source": [
    "def boroughs_style(feature):\n",
    "    return { 'color': 'blue', 'fill': False }"
   ]
  },
  {
   "cell_type": "code",
   "execution_count": null,
   "metadata": {},
   "outputs": [],
   "source": [
    "restaurant_latlons = [[res[2], res[3]] for res in restaurants.values()]"
   ]
  },
  {
   "cell_type": "code",
   "execution_count": null,
   "metadata": {},
   "outputs": [],
   "source": [
    "map_bucharest = folium.Map(location=bucharest_center, zoom_start=13)\n",
    "folium.TileLayer('cartodbpositron').add_to(map_bucharest) #cartodbpositron cartodbdark_matter\n",
    "HeatMap(restaurant_latlons).add_to(map_bucharest)\n",
    "folium.Marker(bucharest_center).add_to(map_bucharest)\n",
    "folium.Circle(bucharest_center, radius=1000, fill=False, color='white').add_to(map_bucharest)\n",
    "folium.Circle(bucharest_center, radius=2000, fill=False, color='white').add_to(map_bucharest)\n",
    "folium.Circle(bucharest_center, radius=3000, fill=False, color='white').add_to(map_bucharest)\n",
    "map_bucharest"
   ]
  },
  {
   "cell_type": "markdown",
   "metadata": {},
   "source": [
    "**The code is the same like the one used for Sofia**"
   ]
  },
  {
   "cell_type": "code",
   "execution_count": null,
   "metadata": {},
   "outputs": [],
   "source": [
    "roi_x_min = bucharest_center_x - 2000\n",
    "roi_y_max = bucharest_center_y + 1000\n",
    "roi_width = 5000\n",
    "roi_height = 5000\n",
    "roi_center_x = roi_x_min + 2500\n",
    "roi_center_y = roi_y_max - 2500\n",
    "roi_center_lon, roi_center_lat = xy_to_lonlat(roi_center_x, roi_center_y)\n",
    "roi_center = [roi_center_lat, roi_center_lon]\n",
    "\n",
    "map_bucharest = folium.Map(location=roi_center, zoom_start=14)\n",
    "HeatMap(restaurant_latlons).add_to(map_bucharest)\n",
    "folium.Marker(bucharest_center).add_to(map_bucharest)\n",
    "folium.Circle(roi_center, radius=2500, color='white', fill=True, fill_opacity=0.4).add_to(map_bucharest)\n",
    "map_bucharest"
   ]
  },
  {
   "cell_type": "code",
   "execution_count": null,
   "metadata": {},
   "outputs": [],
   "source": [
    "k = math.sqrt(3) / 2 # Vertical offset for hexagonal grid cells\n",
    "x_step = 100\n",
    "y_step = 100 * k \n",
    "roi_y_min = roi_center_y - 2500\n",
    "\n",
    "roi_latitudes = []\n",
    "roi_longitudes = []\n",
    "roi_xs = []\n",
    "roi_ys = []\n",
    "for i in range(0, int(51/k)):\n",
    "    y = roi_y_min + i * y_step\n",
    "    x_offset = 50 if i%2==0 else 0\n",
    "    for j in range(0, 51):\n",
    "        x = roi_x_min + j * x_step + x_offset\n",
    "        d = calc_xy_distance(roi_center_x, roi_center_y, x, y)\n",
    "        if (d <= 2501):\n",
    "            lon, lat = xy_to_lonlat(x, y)\n",
    "            roi_latitudes.append(lat)\n",
    "            roi_longitudes.append(lon)\n",
    "            roi_xs.append(x)\n",
    "            roi_ys.append(y)\n",
    "\n",
    "print(len(roi_latitudes), 'candidate neighborhood centers generated.')"
   ]
  },
  {
   "cell_type": "code",
   "execution_count": null,
   "metadata": {},
   "outputs": [],
   "source": [
    "def count_restaurants_nearby(x, y, restaurants, radius=250):    \n",
    "    count = 0\n",
    "    for res in restaurants.values():\n",
    "        res_x = res[7]; res_y = res[8]\n",
    "        d = calc_xy_distance(x, y, res_x, res_y)\n",
    "        if d<=radius:\n",
    "            count += 1\n",
    "    return count\n",
    "\n",
    "def find_nearest_restaurant(x, y, restaurants):\n",
    "    d_min = 100000\n",
    "    for res in restaurants.values():\n",
    "        res_x = res[7]; res_y = res[8]\n",
    "        d = calc_xy_distance(x, y, res_x, res_y)\n",
    "        if d<=d_min:\n",
    "            d_min = d\n",
    "    return d_min\n",
    "\n",
    "roi_restaurant_counts = []\n",
    "roi_bulgarian_distances = []\n",
    "\n",
    "print('Generating data on location candidates... ', end='')\n",
    "for x, y in zip(roi_xs, roi_ys):\n",
    "    count = count_restaurants_nearby(x, y, restaurants, radius=250)\n",
    "    roi_restaurant_counts.append(count)\n",
    "    distance = find_nearest_restaurant(x, y, bulgarian_restaurants)\n",
    "    roi_bulgarian_distances.append(distance)\n",
    "print('done.')"
   ]
  },
  {
   "cell_type": "markdown",
   "metadata": {},
   "source": [
    "**The code is the same like the one used for Sofia**"
   ]
  },
  {
   "cell_type": "code",
   "execution_count": null,
   "metadata": {},
   "outputs": [],
   "source": [
    "df_roi_locations = pd.DataFrame({'Latitude':roi_latitudes,\n",
    "                                 'Longitude':roi_longitudes,\n",
    "                                 'X':roi_xs,\n",
    "                                 'Y':roi_ys,\n",
    "                                 'Restaurants nearby':roi_restaurant_counts})\n",
    "\n",
    "df_roi_locations.head(10)"
   ]
  },
  {
   "cell_type": "code",
   "execution_count": null,
   "metadata": {},
   "outputs": [],
   "source": [
    "good_res_count = np.array((df_roi_locations['Restaurants nearby']<=2))\n",
    "print('Locations with no more than two restaurants nearby:', good_res_count.sum())\n",
    "\n",
    "df_good_locations = df_roi_locations[good_res_count]"
   ]
  },
  {
   "cell_type": "code",
   "execution_count": null,
   "metadata": {},
   "outputs": [],
   "source": [
    "good_latitudes = df_good_locations['Latitude'].values\n",
    "good_longitudes = df_good_locations['Longitude'].values\n",
    "\n",
    "good_locations = [[lat, lon] for lat, lon in zip(good_latitudes, good_longitudes)]\n",
    "\n",
    "map_bucharest = folium.Map(location=roi_center, zoom_start=14)\n",
    "folium.TileLayer('cartodbpositron').add_to(map_bucharest)\n",
    "HeatMap(restaurant_latlons).add_to(map_bucharest)\n",
    "folium.Circle(roi_center, radius=2500, color='white', fill=True, fill_opacity=0.6).add_to(map_bucharest)\n",
    "folium.Marker(bucharest_center).add_to(map_bucharest)\n",
    "for lat, lon in zip(good_latitudes, good_longitudes):\n",
    "    folium.CircleMarker([lat, lon], radius=2, color='blue', fill=True, fill_color='blue', fill_opacity=1).add_to(map_bucharest) \n",
    "map_bucharest"
   ]
  },
  {
   "cell_type": "code",
   "execution_count": null,
   "metadata": {},
   "outputs": [],
   "source": [
    "map_bucharest = folium.Map(location=roi_center, zoom_start=14)\n",
    "HeatMap(good_locations, radius=25).add_to(map_bucharest)\n",
    "folium.Marker(bucharest_center).add_to(map_bucharest)\n",
    "for lat, lon in zip(good_latitudes, good_longitudes):\n",
    "    folium.CircleMarker([lat, lon], radius=2, color='blue', fill=True, fill_color='blue', fill_opacity=1).add_to(map_bucharest)\n",
    "map_bucharest"
   ]
  },
  {
   "cell_type": "markdown",
   "metadata": {},
   "source": [
    "**The code is the same like the one used for Sofia**"
   ]
  },
  {
   "cell_type": "code",
   "execution_count": null,
   "metadata": {},
   "outputs": [],
   "source": [
    "from sklearn.cluster import KMeans\n",
    "\n",
    "number_of_clusters = 15\n",
    "\n",
    "good_xys = df_good_locations[['X', 'Y']].values\n",
    "kmeans = KMeans(n_clusters=number_of_clusters, random_state=0).fit(good_xys)\n",
    "\n",
    "cluster_centers = [xy_to_lonlat(cc[0], cc[1]) for cc in kmeans.cluster_centers_]\n",
    "\n",
    "map_bucharest = folium.Map(location=roi_center, zoom_start=14)\n",
    "folium.TileLayer('cartodbpositron').add_to(map_bucharest)\n",
    "HeatMap(restaurant_latlons).add_to(map_bucharest)\n",
    "folium.Circle(roi_center, radius=2500, color='white', fill=True, fill_opacity=0.4).add_to(map_bucharest)\n",
    "folium.Marker(bucharest_center).add_to(map_bucharest)\n",
    "for lon, lat in cluster_centers:\n",
    "    folium.Circle([lat, lon], radius=500, color='green', fill=True, fill_opacity=0.25).add_to(map_bucharest) \n",
    "for lat, lon in zip(good_latitudes, good_longitudes):\n",
    "    folium.CircleMarker([lat, lon], radius=2, color='blue', fill=True, fill_color='blue', fill_opacity=1).add_to(map_bucharest)\n",
    "map_bucharest"
   ]
  },
  {
   "cell_type": "code",
   "execution_count": null,
   "metadata": {},
   "outputs": [],
   "source": [
    "map_bucharest = folium.Map(location=roi_center, zoom_start=14)\n",
    "folium.Marker(bucharest_center).add_to(map_bucharest)\n",
    "for lat, lon in zip(good_latitudes, good_longitudes):\n",
    "    folium.Circle([lat, lon], radius=250, color='#00000000', fill=True, fill_color='#0066ff', fill_opacity=0.07).add_to(map_bucharest)\n",
    "for lat, lon in zip(good_latitudes, good_longitudes):\n",
    "    folium.CircleMarker([lat, lon], radius=2, color='blue', fill=True, fill_color='blue', fill_opacity=1).add_to(map_bucharest)\n",
    "for lon, lat in cluster_centers:\n",
    "    folium.Circle([lat, lon], radius=500, color='green', fill=False).add_to(map_bucharest) \n",
    "map_bucharest"
   ]
  },
  {
   "cell_type": "code",
   "execution_count": null,
   "metadata": {},
   "outputs": [],
   "source": [
    "candidate_area_addresses = []\n",
    "print('==============================================================')\n",
    "print('Addresses of centers of areas recommended for further analysis')\n",
    "print('==============================================================\\n')\n",
    "for lon, lat in cluster_centers:\n",
    "    addr = get_address(api_key, lat, lon).replace(', Romania', '')\n",
    "    candidate_area_addresses.append(addr)    \n",
    "    x, y = lonlat_to_xy(lon, lat)\n",
    "    d = calc_xy_distance(x, y, bucharest_center_x, bucharest_center_y)\n",
    "    print('{}{} => {:.1f}km from the Old Town'.format(addr, ' '*(50-len(addr)), d/1000))"
   ]
  },
  {
   "cell_type": "markdown",
   "metadata": {},
   "source": [
    "**The code is the same like the one used for Sofia**"
   ]
  },
  {
   "cell_type": "code",
   "execution_count": null,
   "metadata": {},
   "outputs": [],
   "source": [
    "map_bucharest = folium.Map(location=roi_center, zoom_start=14)\n",
    "folium.Circle(bucharest_center, radius=50, color='red', fill=True, fill_color='red', fill_opacity=1).add_to(map_bucharest)\n",
    "for lonlat, addr in zip(cluster_centers, candidate_area_addresses):\n",
    "    folium.Marker([lonlat[1], lonlat[0]], popup=addr).add_to(map_bucharest) \n",
    "for lat, lon in zip(good_latitudes, good_longitudes):\n",
    "    folium.Circle([lat, lon], radius=250, color='#0000ff00', fill=True, fill_color='#0066ff', fill_opacity=0.05).add_to(map_bucharest)\n",
    "map_bucharest"
   ]
  },
  {
   "cell_type": "markdown",
   "metadata": {},
   "source": [
    "### 2. Food Venues Analysis - Bucharest"
   ]
  },
  {
   "cell_type": "code",
   "execution_count": null,
   "metadata": {},
   "outputs": [],
   "source": [
    "nearby_venues.columns = ['Neighborhood Latitude', \n",
    "                  'Neighborhood Longitude', \n",
    "                  'Venue', \n",
    "                  'Venue Latitude', \n",
    "                  'Venue Longitude', \n",
    "                  'Venue Category']"
   ]
  },
  {
   "cell_type": "code",
   "execution_count": null,
   "metadata": {},
   "outputs": [],
   "source": [
    "nearby_venues.head()"
   ]
  },
  {
   "cell_type": "code",
   "execution_count": null,
   "metadata": {},
   "outputs": [],
   "source": [
    "new_df = pd.merge(nearby_venues, df_locations[['Address','Latitude','Longitude']],  how='left', left_on=['Neighborhood Latitude','Neighborhood Longitude'], right_on = ['Latitude','Longitude'])"
   ]
  },
  {
   "cell_type": "code",
   "execution_count": null,
   "metadata": {},
   "outputs": [],
   "source": [
    "new_df.drop('Longitude', inplace=True, axis=1)\n",
    "new_df.drop('Latitude', inplace=True, axis=1)"
   ]
  },
  {
   "cell_type": "code",
   "execution_count": null,
   "metadata": {},
   "outputs": [],
   "source": [
    "new_df = new_df.rename(columns={'Address': 'Neighborhood'})"
   ]
  },
  {
   "cell_type": "code",
   "execution_count": null,
   "metadata": {},
   "outputs": [],
   "source": [
    "bucharest_center_venues = new_df[['Neighborhood', 'Neighborhood Latitude', 'Neighborhood Longitude', 'Venue', 'Venue Latitude','Venue Longitude','Venue Category']]"
   ]
  },
  {
   "cell_type": "code",
   "execution_count": null,
   "metadata": {},
   "outputs": [],
   "source": [
    "print(bucharest_center_venues.shape)\n",
    "bucharest_center_venues.head()"
   ]
  },
  {
   "cell_type": "code",
   "execution_count": null,
   "metadata": {},
   "outputs": [],
   "source": [
    "number_of_venues = bucharest_center_venues.groupby('Neighborhood').count()\n",
    "number_of_venues"
   ]
  },
  {
   "cell_type": "markdown",
   "metadata": {},
   "source": [
    "**The code is the same like the one used for Sofia**"
   ]
  },
  {
   "cell_type": "code",
   "execution_count": null,
   "metadata": {},
   "outputs": [],
   "source": [
    "number_of_venues.shape"
   ]
  },
  {
   "cell_type": "code",
   "execution_count": null,
   "metadata": {},
   "outputs": [],
   "source": [
    "print('There are {} uniques categories.'.format(len(bucharest_center_venues['Venue Category'].unique())))"
   ]
  },
  {
   "cell_type": "code",
   "execution_count": null,
   "metadata": {},
   "outputs": [],
   "source": [
    "# one hot encoding\n",
    "bucharest_center_onehot = pd.get_dummies(bucharest_center_venues[['Venue Category']], prefix=\"\", prefix_sep=\"\")\n",
    "\n",
    "# add neighborhood column back to dataframe\n",
    "bucharest_center_onehot['Neighborhood'] = bucharest_center_venues['Neighborhood'] \n",
    "\n",
    "# move neighborhood column to the first column\n",
    "fixed_columns = [bucharest_center_onehot.columns[-1]] + list(bucharest_center_onehot.columns[:-1])\n",
    "bucharest_center_onehot = bucharest_center_onehot[fixed_columns]\n",
    "\n",
    "bucharest_center_onehot.head()"
   ]
  },
  {
   "cell_type": "code",
   "execution_count": null,
   "metadata": {},
   "outputs": [],
   "source": [
    "bucharest_center_onehot.shape"
   ]
  },
  {
   "cell_type": "code",
   "execution_count": null,
   "metadata": {},
   "outputs": [],
   "source": [
    "bucharest_center_grouped = bucharest_center_onehot.groupby('Neighborhood').mean().reset_index()\n",
    "bucharest_center_grouped.head()"
   ]
  },
  {
   "cell_type": "code",
   "execution_count": null,
   "metadata": {},
   "outputs": [],
   "source": [
    "bucharest_center_grouped.shape"
   ]
  },
  {
   "cell_type": "code",
   "execution_count": null,
   "metadata": {},
   "outputs": [],
   "source": [
    "num_top_venues = 5\n",
    "\n",
    "for hood in bucharest_center_grouped['Neighborhood']:\n",
    "    print(\"----\"+hood+\"----\")\n",
    "    temp = bucharest_center_grouped[bucharest_center_grouped['Neighborhood'] == hood].T.reset_index()\n",
    "    temp.columns = ['venue','freq']\n",
    "    temp = temp.iloc[1:]\n",
    "    temp['freq'] = temp['freq'].astype(float)\n",
    "    temp = temp.round({'freq': 2})\n",
    "    print(temp.sort_values('freq', ascending=False).reset_index(drop=True).head(num_top_venues))\n",
    "    print('\\n')"
   ]
  },
  {
   "cell_type": "markdown",
   "metadata": {},
   "source": [
    "**The code is the same like the one used for Sofia**"
   ]
  },
  {
   "cell_type": "code",
   "execution_count": null,
   "metadata": {},
   "outputs": [],
   "source": [
    "def return_most_common_venues(row, num_top_venues):\n",
    "    row_categories = row.iloc[1:]\n",
    "    row_categories_sorted = row_categories.sort_values(ascending=False)\n",
    "    \n",
    "    return row_categories_sorted.index.values[0:num_top_venues]"
   ]
  },
  {
   "cell_type": "code",
   "execution_count": null,
   "metadata": {},
   "outputs": [],
   "source": [
    "num_top_venues = 10\n",
    "\n",
    "indicators = ['st', 'nd', 'rd']\n",
    "\n",
    "# create columns according to number of top venues\n",
    "columns = ['Neighborhood']\n",
    "for ind in np.arange(num_top_venues):\n",
    "    try:\n",
    "        columns.append('{}{} Most Common Venue'.format(ind+1, indicators[ind]))\n",
    "    except:\n",
    "        columns.append('{}th Most Common Venue'.format(ind+1))\n",
    "\n",
    "# create a new dataframe\n",
    "neighborhoods_venues_sorted = pd.DataFrame(columns=columns)\n",
    "neighborhoods_venues_sorted['Neighborhood'] = bucharest_center_grouped['Neighborhood']\n",
    "\n",
    "for ind in np.arange(bucharest_center_grouped.shape[0]):\n",
    "    neighborhoods_venues_sorted.iloc[ind, 1:] = return_most_common_venues(bucharest_center_grouped.iloc[ind, :], num_top_venues)\n",
    "\n",
    "neighborhoods_venues_sorted.head()"
   ]
  },
  {
   "cell_type": "code",
   "execution_count": null,
   "metadata": {},
   "outputs": [],
   "source": [
    "# set number of clusters\n",
    "kclusters = 5\n",
    "\n",
    "bucharest_center_grouped_clustering = bucharest_center_grouped.drop('Neighborhood', 1)\n",
    "\n",
    "# run k-means clustering\n",
    "kmeans = KMeans(n_clusters=kclusters, random_state=0).fit(bucharest_center_grouped_clustering)\n",
    "\n",
    "# check cluster labels generated for each row in the dataframe\n",
    "kmeans.labels_[0:10] "
   ]
  },
  {
   "cell_type": "code",
   "execution_count": null,
   "metadata": {},
   "outputs": [],
   "source": [
    "neighborhoods_venues_sorted.insert(0, 'Cluster Labels', kmeans.labels_)\n",
    "\n",
    "bucharest_center_merged = df_locations\n",
    "\n",
    "# merge bucharest_center_grouped with bucharest_center_data to add latitude/longitude for each neighborhood\n",
    "bucharest_center_merged = bucharest_center_merged[[\"Address\",\"Latitude\",\"Longitude\"]].join(neighborhoods_venues_sorted.set_index('Neighborhood'), on='Address')\n",
    "\n",
    "bucharest_center_merged # check the last columns!"
   ]
  },
  {
   "cell_type": "code",
   "execution_count": null,
   "metadata": {},
   "outputs": [],
   "source": [
    "bucharest_center_merged = bucharest_center_merged.dropna(axis=0)"
   ]
  },
  {
   "cell_type": "code",
   "execution_count": null,
   "metadata": {},
   "outputs": [],
   "source": [
    "bucharest_center_merged[\"Cluster Labels\"] = bucharest_center_merged[\"Cluster Labels\"].astype(int)\n",
    "\n",
    "bucharest_center_merged"
   ]
  },
  {
   "cell_type": "code",
   "execution_count": null,
   "metadata": {},
   "outputs": [],
   "source": [
    "latitude = bucharest_center[0] \n",
    "longitude = bucharest_center[1]"
   ]
  },
  {
   "cell_type": "markdown",
   "metadata": {},
   "source": [
    "**The code is the same like the one used for Sofia**"
   ]
  },
  {
   "cell_type": "code",
   "execution_count": null,
   "metadata": {},
   "outputs": [],
   "source": [
    "# create map\n",
    "map_clusters = folium.Map(location=[latitude, longitude], zoom_start=11)\n",
    "\n",
    "# set color scheme for the clusters\n",
    "x = np.arange(kclusters)\n",
    "ys = [i + x + (i*x)**2 for i in range(kclusters)]\n",
    "colors_array = cm.rainbow(np.linspace(0, 1, len(ys)))\n",
    "rainbow = [colors.rgb2hex(i) for i in colors_array]\n",
    "\n",
    "# add markers to the map\n",
    "markers_colors = []\n",
    "for lat, lon, poi, cluster in zip(bucharest_center_merged['Latitude'], bucharest_center_merged['Longitude'], bucharest_center_merged['Address'], bucharest_center_merged['Cluster Labels']):\n",
    "    label = folium.Popup(str(poi) + ' Cluster ' + str(cluster), parse_html=True)\n",
    "    folium.CircleMarker(\n",
    "        [lat, lon],\n",
    "        radius=5,\n",
    "        popup=label,\n",
    "        color=rainbow[cluster-1],\n",
    "        fill=True,\n",
    "        fill_color=rainbow[cluster-1],\n",
    "        fill_opacity=0.7).add_to(map_clusters)\n",
    "       \n",
    "map_clusters"
   ]
  },
  {
   "cell_type": "code",
   "execution_count": null,
   "metadata": {},
   "outputs": [],
   "source": [
    "number_of_venues = number_of_venues[['Venue']]\n",
    "number_of_venues.index.names = ['Address']"
   ]
  },
  {
   "cell_type": "code",
   "execution_count": null,
   "metadata": {},
   "outputs": [],
   "source": [
    "bucharest_center_merged = pd.merge(bucharest_center_merged, number_of_venues, on=[\"Address\"])"
   ]
  },
  {
   "cell_type": "code",
   "execution_count": null,
   "metadata": {},
   "outputs": [],
   "source": [
    "bucharest_center_merged"
   ]
  },
  {
   "cell_type": "markdown",
   "metadata": {},
   "source": [
    "Now, we can examine each specific Bucharest cluster and determine the different venue categories that distinguish each one and name them"
   ]
  },
  {
   "cell_type": "markdown",
   "metadata": {},
   "source": [
    "##### 1. The first is a restaurants cluster, but the Italian Restaurants are so dominant in it that it can easily be called the \"Italian Restaurant\" cluster "
   ]
  },
  {
   "cell_type": "code",
   "execution_count": null,
   "metadata": {},
   "outputs": [],
   "source": [
    "bucharest_center_merged.loc[bucharest_center_merged['Cluster Labels'] == 0, bucharest_center_merged.columns[[0] + list(range(4, bucharest_center_merged.shape[1]))]]"
   ]
  },
  {
   "cell_type": "markdown",
   "metadata": {},
   "source": [
    "##### 2. The second cluster is \"The Restaurants Cluster\" - predominantly common restaurants, Romanian, Hungarian and East - European, but also many others"
   ]
  },
  {
   "cell_type": "code",
   "execution_count": null,
   "metadata": {},
   "outputs": [],
   "source": [
    "bucharest_center_merged.loc[bucharest_center_merged['Cluster Labels'] == 1, bucharest_center_merged.columns[[0] + list(range(4, bucharest_center_merged.shape[1]))]]"
   ]
  },
  {
   "cell_type": "markdown",
   "metadata": {},
   "source": [
    "##### 3. The third cluster is definitely the \"Cafes\" cluster"
   ]
  },
  {
   "cell_type": "code",
   "execution_count": null,
   "metadata": {},
   "outputs": [],
   "source": [
    "bucharest_center_merged.loc[bucharest_center_merged['Cluster Labels'] == 2, bucharest_center_merged.columns[[0] + list(range(4, bucharest_center_merged.shape[1]))]]"
   ]
  },
  {
   "cell_type": "markdown",
   "metadata": {},
   "source": [
    "##### 4. This one is rich on Romanian restaurants but it is so mixed and rich on other venues, too, so we will simply call it \"The Mixed\" cluster. And it is the one that is dominating in the selected region of Bucharest"
   ]
  },
  {
   "cell_type": "code",
   "execution_count": null,
   "metadata": {},
   "outputs": [],
   "source": [
    "bucharest_center_merged.loc[bucharest_center_merged['Cluster Labels'] == 3, bucharest_center_merged.columns[[0] + list(range(4, bucharest_center_merged.shape[1]))]]"
   ]
  },
  {
   "cell_type": "markdown",
   "metadata": {},
   "source": [
    "##### 5. The fifth cluster is the \"Pizza Place\" cluster  "
   ]
  },
  {
   "cell_type": "code",
   "execution_count": null,
   "metadata": {},
   "outputs": [],
   "source": [
    "bucharest_center_merged.loc[bucharest_center_merged['Cluster Labels'] == 4, bucharest_center_merged.columns[[0] + list(range(4, bucharest_center_merged.shape[1]))]]"
   ]
  },
  {
   "cell_type": "markdown",
   "metadata": {},
   "source": [
    "## Results<a name=\"results\"></a>"
   ]
  },
  {
   "cell_type": "markdown",
   "metadata": {},
   "source": [
    "Our analysis showed that surpisingly there are no Romanian/Bulgarian restaurants in Sofia/Bucharest in a circle with radius of 6km from the Court House/Old Town. I further conducted an Internet research which also gave the same results. For both cities I found only one sign of a venue with a Bulgarian dishes in Bucharest which was approximately 4-5 km from the Old Town and its advertisement was not very clear (it stayed that it is a fast food venue), so I am not sure if it can be even found on Foursquare. \n",
    "\n",
    "I think that these are good news for eventual stakeholders/entrepreneurs who want to open such a restaurant in one of the both countries. Although the national dishes on the Balkans are similar there is still a big variety of different cuisines in every country and the citizens of these both capitals will be happy to try some of the national dishes of their neighbour country. I think that the main reason that there are still not such restaurants is because of the similarity of both national dishes, second because there are not many expats from the neighbor countries in the both cities and the third - the economic situation of both countries in the transition period. \n",
    "\n",
    "Our analysis can be very useful for future stakeholders, because we highlighted very appealing areas of the city for such an investment. After defining the zone with a 6km radius around the chosen spot, we extracted data for all the food venues and restaurants in it. Using heatmaps to show us where the areas with high density of restaurants are, we defined new areas South - East from the chosen central spots. Those areas have low dencity of restaurants - less than two in a radius of 250m.The initial idea that the areas should also have no Romanian/Bulgarian restaurant in a radius of 400m didn't need further analysis, because there weren't such restaurants in the whole central area we chose.    \n",
    "\n",
    "We clustered these zones with low density of restaurants and got 15 zones/clusters that are the perfect places for a new Romanian/Bulgarian restaurant. The addresses of these new best \"neighborhoods\" were recorded, which will be the perfect starting point for further analysis of the \"neighborhood\" and the choice of a restaurant place.  \n",
    "\n",
    "We used the obtained data of food venues in order to cluster the city center and define areas with different predominant venues, tastes, national dishes, which help us get some initial picture for the atmosphere of the city. We found that the predominant cluster for the city center of Sofia is the one rich on international restaurants, followed by the cluster rich on common restaurants and caffees. At the back are the BBQ joint and the Fast food clusters, which paints a very nice first impression for the city center of Sofia. \n",
    "\n",
    "The predominant cluster for Bucharest is also rich on international restaurants, but not that well defined. There are a lot of spots with predominant common restaurants, Romanian restaurant and a lot of different food venues, too. That is why we called it a \"Mixed\" cluster. And it is not that much dominating the area like the predominant one in Sofia.The second one is the \"Cafes\" cluster with a small edge over the \"Restaurants Cluster\" with mainly common restaurants and some other types like Romanian, East - European, Hungarian and others. The less often to find are the \"Pizza Place\" and the \"Italian Restaurants\" clusters. But as a whole, the division of clusters in Bucharest shows less dominance of one of them, as already mentioned. Another particular feature of Bucharest is the very high number of Italian Restaurants which is pretty obvious.   "
   ]
  },
  {
   "cell_type": "markdown",
   "metadata": {},
   "source": [
    "## Discussion<a name=\"discussion\"></a>"
   ]
  },
  {
   "cell_type": "markdown",
   "metadata": {},
   "source": [
    "As already mentioned, the analysis is only a starting point for further thorougher analysis of suitable places for Romanian/Bulgarian restaurants. The defined 15 clusters of neighborhoods with low density of restaurants were highlighted as circles, but actually they have an irregular form and the found addresses are only the starting point for further analysis of the area. There can be many reasons why there are not that many restaurants in these zones, which can make them unsuitable for an investment. \n",
    "\n",
    "Another topic which should be discussed is the clustering of the food venues. Since the \"K-Means\" function performs unsupervised Machine Learning process, we can get slightly different results, every time we perfom it. Especially when we run it on not that easily separable data like the food venues in Bucharest (that is why we have this \"Mixed\" cluster). The Data for Sofia is pretty stable and gives almost the same reuslts, but the one for Bucharest gives slightly different clustering every time it is run. The main separation of clustering and their dominance in the city center is still recognizable, but one should not be surprized if she doen't get the results discussed and the graphs showed to 100%. \n",
    "\n",
    "As already discussed, too, I was a little bit surprised that there are no Romanian restaurants in Sofia and no Bulgarian restaurants in Bucharest center, but I think that this is mainly due to reasons mentioned in the \"Results\" section. Both Balkan countries and its capitals faced a big transformation in the last thirty years and I am sure that the lack of such restaurants is actually a very good niche for future stakeholders and such venues would be very profitable if their place, interior and service are on the needed level.  \n",
    "\n",
    "The next step in the further analysis of the center of both cities is to analyse all the venues in it (not only the food venues). This will help us see the entire icture of it and discover fully its atmosphere. "
   ]
  },
  {
   "cell_type": "markdown",
   "metadata": {},
   "source": [
    "## Conclusion <a name=\"conclusion\"></a>"
   ]
  },
  {
   "cell_type": "markdown",
   "metadata": {},
   "source": [
    "Our analysis is a good starting point for a business plan for a new restaurant, for state administration or tourism companies which want to promote both cities. We got 15 addresses in each citiy, which are a good starting point for analysis of potential neighborhoods for a future Romanian or Bulgarian restaurant. We analysed the \"flavor\" of both city-centres and highlighted spots where we can relax and enjoy a nice meal after a long tourist walk along the city. Next time we visit one of the both cities - either as a tourist or on a business - trip, we know where we can find delicious food.      "
   ]
  },
  {
   "cell_type": "code",
   "execution_count": null,
   "metadata": {},
   "outputs": [],
   "source": []
  }
 ],
 "metadata": {
  "kernelspec": {
   "display_name": "Python 3",
   "language": "python",
   "name": "python3"
  },
  "language_info": {
   "codemirror_mode": {
    "name": "ipython",
    "version": 3
   },
   "file_extension": ".py",
   "mimetype": "text/x-python",
   "name": "python",
   "nbconvert_exporter": "python",
   "pygments_lexer": "ipython3",
   "version": "3.7.4"
  }
 },
 "nbformat": 4,
 "nbformat_minor": 2
}
