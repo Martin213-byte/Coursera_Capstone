{
 "cells": [
  {
   "cell_type": "markdown",
   "metadata": {},
   "source": [
    "# Capstone Project - The Battle of the Neighborhoods\n",
    "### Spezialisation in Data Science by IBM and Coursera"
   ]
  },
  {
   "cell_type": "markdown",
   "metadata": {},
   "source": [
    "## Table of contents\n",
    "* [Introduction/Business Problem](#introduction)\n",
    "* [Data](#data)"
   ]
  },
  {
   "cell_type": "markdown",
   "metadata": {},
   "source": [
    "\n",
    "## Introduction/Business Problem <a name=\"introduction\"></a>"
   ]
  },
  {
   "cell_type": "markdown",
   "metadata": {},
   "source": [
    "   In my Business Problem I will analyse and compare the clusters of **restaurants** in the center of three different European cities, namely - **Berlin, Bucharest and Sofia**. \n",
    "\n",
    "   As a Bulgarian who lives in Germany for many years, it is interesting to me to compare two cities like **Sofia and Bucharest**, which are still in a transition period after the fall of the Communist regime in East Europe and despite that they are changing and there are already people from different nationalities living there, they are still **not that multicultural cities comparing to Berlin**.    \n",
    "    \n",
    "   I want to analyse whether the **richness of restaurants** with cousines from different countries is **connected with the multiculturality** of a city or whether the natural people's desire to try dishes from all over the world makes the venues of a city multicultural, before the city has become such. \n",
    "    \n",
    "   Additionally, I want to **analyse whether there are any restaurants with traditional national dishes from one of the three countries in the other two capital cities** (Bulgarian restaurants in Berlin/Bucharest, Romanian restaurants in Sofia/Berlin or German restaurants in Sofia/Bucharest). And **where in the city center is the best place for such a restaurants to be opened**.\n",
    "   \n",
    "   This problem can be of a great use for private entrepreneurs from any of the three countries, who want to open a restaurant with traditional national cuisines in any of the other two countries. It can also help governmental or tourist organisations who want to promote their city and the deversity of restaurants it offers.   "
   ]
  },
  {
   "cell_type": "markdown",
   "metadata": {},
   "source": [
    "## Data <a name=\"data\"></a>"
   ]
  },
  {
   "cell_type": "markdown",
   "metadata": {},
   "source": [
    "1. First, I will allocate a main touristic sightseeing place in every city - like Alexanderplatz in Berlin and St. Alexander Nevsky Cathedral in Sofia.\n",
    "   \n",
    "   \n",
    "2. Second, the Geocoordinates of the three locations will be defined, using Google Maps.\n",
    "  \n",
    "  \n",
    "3. The next step will be to get information for all the venues in a circle within radius of 3 km using Foursquare (higher radius if needed / if the number of venues or neigbourhoods found are too small)\n",
    "  \n",
    "  \n",
    "4. I will use K - Means Clustering to define the clusters of restaurants in the three city centers and will compare them - how simillar they are to each other and how multucultural they are (different number of K's will be tested)\n",
    "  \n",
    "  \n",
    "5. The Next step will be to count the total number of restaurants\n",
    "  \n",
    "  \n",
    "6. After that I will count the number of German, Bulgarian and Romanian restaurants in the given areas and their distance from the given central point\n",
    "  \n",
    "  \n",
    "7. Spots where such kinds of restaurants are missing and are good place for openeing one will be pointed out"
   ]
  },
  {
   "cell_type": "code",
   "execution_count": null,
   "metadata": {},
   "outputs": [],
   "source": []
  }
 ],
 "metadata": {
  "kernelspec": {
   "display_name": "Python 3",
   "language": "python",
   "name": "python3"
  },
  "language_info": {
   "codemirror_mode": {
    "name": "ipython",
    "version": 3
   },
   "file_extension": ".py",
   "mimetype": "text/x-python",
   "name": "python",
   "nbconvert_exporter": "python",
   "pygments_lexer": "ipython3",
   "version": "3.7.4"
  }
 },
 "nbformat": 4,
 "nbformat_minor": 2
}
